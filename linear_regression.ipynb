{
  "cells": [
    {
      "cell_type": "markdown",
      "metadata": {
        "id": "Z407ZL9qcEKQ"
      },
      "source": [
        "**CLEANING**"
      ]
    },
    {
      "cell_type": "markdown",
      "metadata": {
        "id": "OkNZJRtTbeA8"
      },
      "source": [
        "importing needed libraries"
      ]
    },
    {
      "cell_type": "code",
      "execution_count": 1,
      "metadata": {
        "id": "PPJbn8ftV_u0"
      },
      "outputs": [],
      "source": [
        "import pandas as pd\n",
        "import seaborn as sns\n",
        "import matplotlib.pyplot as plt\n",
        "import plotly.express as px\n",
        "import plotly.graph_objects as go\n",
        "from sklearn.model_selection import train_test_split\n",
        "import statsmodels.api as sm\n",
        "from sklearn.metrics import r2_score\n",
        "import numpy as np\n",
        "from sklearn.metrics import mean_squared_error\n",
        "from scipy import stats\n",
        "from tabulate import tabulate\n",
        "from sklearn.linear_model import LinearRegression\n",
        "import re\n",
        "from statsmodels.stats.anova import anova_lm\n",
        "import ipywidgets as widgets\n",
        "from ipywidgets import ToggleButtons, VBox ,interact\n",
        "import os\n",
        "import gdown"
      ]
    },
    {
      "cell_type": "markdown",
      "metadata": {},
      "source": [
        "#### you can download the data from \n",
        "https://www.kaggle.com/datasets/kumarajarshi/life-expectancy-who/data"
      ]
    },
    {
      "cell_type": "markdown",
      "metadata": {
        "id": "Qjsdur4ibmN8"
      },
      "source": [
        "importing dataset for cleaning"
      ]
    },
    {
      "cell_type": "code",
      "execution_count": 2,
      "metadata": {
        "id": "ndMCaQDU6t0-"
      },
      "outputs": [],
      "source": [
        "cleaning = pd.read_csv('Life Expectancy.csv')"
      ]
    },
    {
      "cell_type": "code",
      "execution_count": 3,
      "metadata": {
        "colab": {
          "base_uri": "https://localhost:8080/"
        },
        "id": "TaNU2QxXC7_G",
        "outputId": "879f8254-9e32-4e29-f426-ad610fc3fe60"
      },
      "outputs": [
        {
          "name": "stdout",
          "output_type": "stream",
          "text": [
            "<class 'pandas.core.frame.DataFrame'>\n",
            "RangeIndex: 2938 entries, 0 to 2937\n",
            "Data columns (total 22 columns):\n",
            " #   Column                           Non-Null Count  Dtype  \n",
            "---  ------                           --------------  -----  \n",
            " 0   Country                          2938 non-null   object \n",
            " 1   Year                             2938 non-null   int64  \n",
            " 2   Status                           2938 non-null   object \n",
            " 3   Life expectancy                  2928 non-null   float64\n",
            " 4   Adult Mortality                  2928 non-null   float64\n",
            " 5   infant deaths                    2938 non-null   int64  \n",
            " 6   Alcohol                          2744 non-null   float64\n",
            " 7   percentage expenditure           2938 non-null   float64\n",
            " 8   Hepatitis B                      2385 non-null   float64\n",
            " 9   Measles                          2938 non-null   int64  \n",
            " 10   BMI                             2904 non-null   float64\n",
            " 11  under-five deaths                2938 non-null   int64  \n",
            " 12  Polio                            2919 non-null   float64\n",
            " 13  Total expenditure                2712 non-null   float64\n",
            " 14  Diphtheria                       2919 non-null   float64\n",
            " 15   HIV/AIDS                        2938 non-null   float64\n",
            " 16  GDP                              2490 non-null   float64\n",
            " 17  Population                       2286 non-null   float64\n",
            " 18   thinness  1-19 years            2904 non-null   float64\n",
            " 19   thinness 5-9 years              2904 non-null   float64\n",
            " 20  Income composition of resources  2771 non-null   float64\n",
            " 21  Schooling                        2775 non-null   float64\n",
            "dtypes: float64(16), int64(4), object(2)\n",
            "memory usage: 505.1+ KB\n"
          ]
        }
      ],
      "source": [
        "cleaning.info()"
      ]
    },
    {
      "cell_type": "markdown",
      "metadata": {
        "id": "d58JnOyNbs8A"
      },
      "source": [
        "data transformation on \"developed\" feature"
      ]
    },
    {
      "cell_type": "code",
      "execution_count": 4,
      "metadata": {
        "id": "z3hN4pOtWF3n"
      },
      "outputs": [
        {
          "name": "stderr",
          "output_type": "stream",
          "text": [
            "C:\\Users\\egy   star\\AppData\\Local\\Temp\\ipykernel_16288\\3498334040.py:1: FutureWarning: Downcasting behavior in `replace` is deprecated and will be removed in a future version. To retain the old behavior, explicitly call `result.infer_objects(copy=False)`. To opt-in to the future behavior, set `pd.set_option('future.no_silent_downcasting', True)`\n",
            "  cleaning['Developed'] = cleaning['Status'].replace({'Developed': 1, 'Developing': 0})\n"
          ]
        }
      ],
      "source": [
        "cleaning['Developed'] = cleaning['Status'].replace({'Developed': 1, 'Developing': 0})"
      ]
    },
    {
      "cell_type": "markdown",
      "metadata": {
        "id": "hnqQMdUWb44p"
      },
      "source": [
        "deleting \"status\", \"country\",\"year\" since we do not need them for model building"
      ]
    },
    {
      "cell_type": "code",
      "execution_count": 5,
      "metadata": {
        "id": "CPxpyx0GWXvd"
      },
      "outputs": [],
      "source": [
        "cleaning.drop('Status', axis=1, inplace=True)\n",
        "cleaning.drop('Country', axis=1, inplace=True)\n",
        "cleaning.drop('Year', axis=1, inplace=True)"
      ]
    },
    {
      "cell_type": "markdown",
      "metadata": {
        "id": "0ekwFeCkcDDp"
      },
      "source": [
        "inspecting data"
      ]
    },
    {
      "cell_type": "code",
      "execution_count": 6,
      "metadata": {
        "colab": {
          "base_uri": "https://localhost:8080/"
        },
        "id": "rS6pgboKXaIm",
        "outputId": "d4815c4b-154f-4986-c792-fa2a8b7b1b6f"
      },
      "outputs": [
        {
          "data": {
            "text/html": [
              "<div>\n",
              "<style scoped>\n",
              "    .dataframe tbody tr th:only-of-type {\n",
              "        vertical-align: middle;\n",
              "    }\n",
              "\n",
              "    .dataframe tbody tr th {\n",
              "        vertical-align: top;\n",
              "    }\n",
              "\n",
              "    .dataframe thead th {\n",
              "        text-align: right;\n",
              "    }\n",
              "</style>\n",
              "<table border=\"1\" class=\"dataframe\">\n",
              "  <thead>\n",
              "    <tr style=\"text-align: right;\">\n",
              "      <th></th>\n",
              "      <th>Life expectancy</th>\n",
              "      <th>Adult Mortality</th>\n",
              "      <th>infant deaths</th>\n",
              "      <th>Alcohol</th>\n",
              "      <th>percentage expenditure</th>\n",
              "      <th>Hepatitis B</th>\n",
              "      <th>Measles</th>\n",
              "      <th>BMI</th>\n",
              "      <th>under-five deaths</th>\n",
              "      <th>Polio</th>\n",
              "      <th>Total expenditure</th>\n",
              "      <th>Diphtheria</th>\n",
              "      <th>HIV/AIDS</th>\n",
              "      <th>GDP</th>\n",
              "      <th>Population</th>\n",
              "      <th>thinness  1-19 years</th>\n",
              "      <th>thinness 5-9 years</th>\n",
              "      <th>Income composition of resources</th>\n",
              "      <th>Schooling</th>\n",
              "      <th>Developed</th>\n",
              "    </tr>\n",
              "  </thead>\n",
              "  <tbody>\n",
              "    <tr>\n",
              "      <th>0</th>\n",
              "      <td>65.0</td>\n",
              "      <td>263.0</td>\n",
              "      <td>62</td>\n",
              "      <td>0.01</td>\n",
              "      <td>71.279624</td>\n",
              "      <td>65.0</td>\n",
              "      <td>1154</td>\n",
              "      <td>19.1</td>\n",
              "      <td>83</td>\n",
              "      <td>6.0</td>\n",
              "      <td>8.16</td>\n",
              "      <td>65.0</td>\n",
              "      <td>0.1</td>\n",
              "      <td>584.259210</td>\n",
              "      <td>33736494.0</td>\n",
              "      <td>17.2</td>\n",
              "      <td>17.3</td>\n",
              "      <td>0.479</td>\n",
              "      <td>10.1</td>\n",
              "      <td>0</td>\n",
              "    </tr>\n",
              "    <tr>\n",
              "      <th>1</th>\n",
              "      <td>59.9</td>\n",
              "      <td>271.0</td>\n",
              "      <td>64</td>\n",
              "      <td>0.01</td>\n",
              "      <td>73.523582</td>\n",
              "      <td>62.0</td>\n",
              "      <td>492</td>\n",
              "      <td>18.6</td>\n",
              "      <td>86</td>\n",
              "      <td>58.0</td>\n",
              "      <td>8.18</td>\n",
              "      <td>62.0</td>\n",
              "      <td>0.1</td>\n",
              "      <td>612.696514</td>\n",
              "      <td>327582.0</td>\n",
              "      <td>17.5</td>\n",
              "      <td>17.5</td>\n",
              "      <td>0.476</td>\n",
              "      <td>10.0</td>\n",
              "      <td>0</td>\n",
              "    </tr>\n",
              "    <tr>\n",
              "      <th>2</th>\n",
              "      <td>59.9</td>\n",
              "      <td>268.0</td>\n",
              "      <td>66</td>\n",
              "      <td>0.01</td>\n",
              "      <td>73.219243</td>\n",
              "      <td>64.0</td>\n",
              "      <td>430</td>\n",
              "      <td>18.1</td>\n",
              "      <td>89</td>\n",
              "      <td>62.0</td>\n",
              "      <td>8.13</td>\n",
              "      <td>64.0</td>\n",
              "      <td>0.1</td>\n",
              "      <td>631.744976</td>\n",
              "      <td>31731688.0</td>\n",
              "      <td>17.7</td>\n",
              "      <td>17.7</td>\n",
              "      <td>0.470</td>\n",
              "      <td>9.9</td>\n",
              "      <td>0</td>\n",
              "    </tr>\n",
              "    <tr>\n",
              "      <th>3</th>\n",
              "      <td>59.5</td>\n",
              "      <td>272.0</td>\n",
              "      <td>69</td>\n",
              "      <td>0.01</td>\n",
              "      <td>78.184215</td>\n",
              "      <td>67.0</td>\n",
              "      <td>2787</td>\n",
              "      <td>17.6</td>\n",
              "      <td>93</td>\n",
              "      <td>67.0</td>\n",
              "      <td>8.52</td>\n",
              "      <td>67.0</td>\n",
              "      <td>0.1</td>\n",
              "      <td>669.959000</td>\n",
              "      <td>3696958.0</td>\n",
              "      <td>17.9</td>\n",
              "      <td>18.0</td>\n",
              "      <td>0.463</td>\n",
              "      <td>9.8</td>\n",
              "      <td>0</td>\n",
              "    </tr>\n",
              "    <tr>\n",
              "      <th>4</th>\n",
              "      <td>59.2</td>\n",
              "      <td>275.0</td>\n",
              "      <td>71</td>\n",
              "      <td>0.01</td>\n",
              "      <td>7.097109</td>\n",
              "      <td>68.0</td>\n",
              "      <td>3013</td>\n",
              "      <td>17.2</td>\n",
              "      <td>97</td>\n",
              "      <td>68.0</td>\n",
              "      <td>7.87</td>\n",
              "      <td>68.0</td>\n",
              "      <td>0.1</td>\n",
              "      <td>63.537231</td>\n",
              "      <td>2978599.0</td>\n",
              "      <td>18.2</td>\n",
              "      <td>18.2</td>\n",
              "      <td>0.454</td>\n",
              "      <td>9.5</td>\n",
              "      <td>0</td>\n",
              "    </tr>\n",
              "  </tbody>\n",
              "</table>\n",
              "</div>"
            ],
            "text/plain": [
              "   Life expectancy   Adult Mortality  infant deaths  Alcohol  \\\n",
              "0              65.0            263.0             62     0.01   \n",
              "1              59.9            271.0             64     0.01   \n",
              "2              59.9            268.0             66     0.01   \n",
              "3              59.5            272.0             69     0.01   \n",
              "4              59.2            275.0             71     0.01   \n",
              "\n",
              "   percentage expenditure  Hepatitis B  Measles    BMI   under-five deaths   \\\n",
              "0               71.279624         65.0      1154   19.1                  83   \n",
              "1               73.523582         62.0       492   18.6                  86   \n",
              "2               73.219243         64.0       430   18.1                  89   \n",
              "3               78.184215         67.0      2787   17.6                  93   \n",
              "4                7.097109         68.0      3013   17.2                  97   \n",
              "\n",
              "   Polio  Total expenditure  Diphtheria    HIV/AIDS         GDP  Population  \\\n",
              "0    6.0               8.16         65.0        0.1  584.259210  33736494.0   \n",
              "1   58.0               8.18         62.0        0.1  612.696514    327582.0   \n",
              "2   62.0               8.13         64.0        0.1  631.744976  31731688.0   \n",
              "3   67.0               8.52         67.0        0.1  669.959000   3696958.0   \n",
              "4   68.0               7.87         68.0        0.1   63.537231   2978599.0   \n",
              "\n",
              "    thinness  1-19 years   thinness 5-9 years  \\\n",
              "0                   17.2                 17.3   \n",
              "1                   17.5                 17.5   \n",
              "2                   17.7                 17.7   \n",
              "3                   17.9                 18.0   \n",
              "4                   18.2                 18.2   \n",
              "\n",
              "   Income composition of resources  Schooling  Developed  \n",
              "0                            0.479       10.1          0  \n",
              "1                            0.476       10.0          0  \n",
              "2                            0.470        9.9          0  \n",
              "3                            0.463        9.8          0  \n",
              "4                            0.454        9.5          0  "
            ]
          },
          "execution_count": 6,
          "metadata": {},
          "output_type": "execute_result"
        }
      ],
      "source": [
        "cleaning.head()"
      ]
    },
    {
      "cell_type": "markdown",
      "metadata": {
        "id": "XgxZBAzocG3q"
      },
      "source": [
        "checking data types & if missing values exist"
      ]
    },
    {
      "cell_type": "code",
      "execution_count": 7,
      "metadata": {
        "colab": {
          "base_uri": "https://localhost:8080/"
        },
        "id": "hjpJOzS9Z1Y_",
        "outputId": "44a4133b-859e-4203-d295-9e454d3fe944"
      },
      "outputs": [
        {
          "name": "stdout",
          "output_type": "stream",
          "text": [
            "<class 'pandas.core.frame.DataFrame'>\n",
            "RangeIndex: 2938 entries, 0 to 2937\n",
            "Data columns (total 20 columns):\n",
            " #   Column                           Non-Null Count  Dtype  \n",
            "---  ------                           --------------  -----  \n",
            " 0   Life expectancy                  2928 non-null   float64\n",
            " 1   Adult Mortality                  2928 non-null   float64\n",
            " 2   infant deaths                    2938 non-null   int64  \n",
            " 3   Alcohol                          2744 non-null   float64\n",
            " 4   percentage expenditure           2938 non-null   float64\n",
            " 5   Hepatitis B                      2385 non-null   float64\n",
            " 6   Measles                          2938 non-null   int64  \n",
            " 7    BMI                             2904 non-null   float64\n",
            " 8   under-five deaths                2938 non-null   int64  \n",
            " 9   Polio                            2919 non-null   float64\n",
            " 10  Total expenditure                2712 non-null   float64\n",
            " 11  Diphtheria                       2919 non-null   float64\n",
            " 12   HIV/AIDS                        2938 non-null   float64\n",
            " 13  GDP                              2490 non-null   float64\n",
            " 14  Population                       2286 non-null   float64\n",
            " 15   thinness  1-19 years            2904 non-null   float64\n",
            " 16   thinness 5-9 years              2904 non-null   float64\n",
            " 17  Income composition of resources  2771 non-null   float64\n",
            " 18  Schooling                        2775 non-null   float64\n",
            " 19  Developed                        2938 non-null   int64  \n",
            "dtypes: float64(16), int64(4)\n",
            "memory usage: 459.2 KB\n"
          ]
        }
      ],
      "source": [
        "cleaning.info()"
      ]
    },
    {
      "cell_type": "markdown",
      "metadata": {
        "id": "Uq9Rptd_uVZs"
      },
      "source": [
        "### attributes values meaning\n",
        "Adult Mortality: The probability of dying between the ages of 15 and 60 years per 1000 population.\n",
        "Infant Deaths: The number of infant deaths per 1000 live births in a given year.\n",
        "\n",
        "Alcohol: The average annual alcohol consumption per capita (age 15 and older), measured in liters of pure alcohol.\n",
        "\n",
        "Percentage Expenditure: Expenditure on health as a percentage of Gross Domestic Product (GDP) per capita.\n",
        "\n",
        "Hepatitis B: The percentage of children under 1 year of age who have received the Hepatitis B vaccine.\n",
        "\n",
        "Measles: The number of reported measles cases per 1000 population.\n",
        "\n",
        "BMI: Body Mass Index, a measure of body fat based on height and weight.\n",
        "\n",
        "Under-five Deaths: The number of deaths under age five per 1000 live births in a given year.\n",
        "\n",
        "Total Expenditure: Total government and private expenditure on health as a percentage of GDP.\n",
        "\n",
        "Diphtheria: The percentage of children under 1 year of age who have received the diphtheria-tetanus-pertussis (DTP3) vaccine.\n",
        "\n",
        "HIV/AIDS: The estimated percentage of adults aged 15-49 living with HIV/AIDS.\n",
        "\n",
        "GDP: Gross Domestic Product, the total value of goods and services produced by a country in a year.\n",
        "\n",
        "Population: The total population of a country.\n",
        "\n",
        "Thinness 1-19 Years: The percentage of children aged 10-19 who are moderately or severely thin.\n",
        "\n",
        "Thinness 5-9 Years: The percentage of children aged 5-9 who are moderately or severely thin.\n",
        "\n",
        "Composition of Resources: A composite index reflecting the overall level of development in terms of income, education, and health resources.\n",
        "\n",
        "Schooling: The average number of years of schooling completed by adults aged 15 and older.\n",
        "\n",
        "Developed: A binary indicator (0 or 1) representing whether a country is classified as developed or not."
      ]
    },
    {
      "cell_type": "markdown",
      "metadata": {
        "id": "pzcDHpYhcSnT"
      },
      "source": [
        "removing extra whitespaces from attribute names by stripping whitespaces from right and left then used regular expressions to replace long whitespaces with just one"
      ]
    },
    {
      "cell_type": "code",
      "execution_count": 8,
      "metadata": {
        "colab": {
          "base_uri": "https://localhost:8080/"
        },
        "id": "RU8LLP4afkse",
        "outputId": "b97de251-ae61-4565-94ea-b7f936fdae94"
      },
      "outputs": [
        {
          "data": {
            "text/plain": [
              "['Life expectancy',\n",
              " 'Adult Mortality',\n",
              " 'infant deaths',\n",
              " 'Alcohol',\n",
              " 'percentage expenditure',\n",
              " 'Hepatitis B',\n",
              " 'Measles',\n",
              " 'BMI',\n",
              " 'under-five deaths',\n",
              " 'Polio',\n",
              " 'Total expenditure',\n",
              " 'Diphtheria',\n",
              " 'HIV/AIDS',\n",
              " 'GDP',\n",
              " 'Population',\n",
              " 'thinness 1-19 years',\n",
              " 'thinness 5-9 years',\n",
              " 'Income composition of resources',\n",
              " 'Schooling',\n",
              " 'Developed']"
            ]
          },
          "execution_count": 8,
          "metadata": {},
          "output_type": "execute_result"
        }
      ],
      "source": [
        "cleaning.columns = cleaning.columns.str.strip().map(lambda x: re.sub(r'\\s+', ' ', x))\n",
        "cleaning.columns.to_list()"
      ]
    },
    {
      "cell_type": "markdown",
      "metadata": {
        "id": "B7jTuvEeczt7"
      },
      "source": [
        "dropping rows with missing values of \"life expectancy\" feature since it is our target. filling missing values there can lead to inaccurate results."
      ]
    },
    {
      "cell_type": "code",
      "execution_count": 9,
      "metadata": {
        "id": "EulEF87SYo1t"
      },
      "outputs": [],
      "source": [
        "cleaning = cleaning.dropna(subset=['Life expectancy'])"
      ]
    },
    {
      "cell_type": "markdown",
      "metadata": {
        "id": "00Jy_0_pdHYm"
      },
      "source": [
        "we tried to fill missing values of independant variables with a more accurate way. we searched for features that are strongly correlated with attributes that contain missing values. the following correlation matrix's attributes are some attributes with missing values, and its rows are another features strongly correlated with attributes with missing values"
      ]
    },
    {
      "cell_type": "code",
      "execution_count": 10,
      "metadata": {
        "colab": {
          "base_uri": "https://localhost:8080/",
          "height": 255
        },
        "id": "Bg8ovMZFaD0p",
        "outputId": "e0bbb1ac-a977-49a1-bcff-069109132da1"
      },
      "outputs": [
        {
          "name": "stdout",
          "output_type": "stream",
          "text": [
            "count of high correlation scores in the correlation matrix: 7\n"
          ]
        },
        {
          "data": {
            "text/html": [
              "<div>\n",
              "<style scoped>\n",
              "    .dataframe tbody tr th:only-of-type {\n",
              "        vertical-align: middle;\n",
              "    }\n",
              "\n",
              "    .dataframe tbody tr th {\n",
              "        vertical-align: top;\n",
              "    }\n",
              "\n",
              "    .dataframe thead th {\n",
              "        text-align: right;\n",
              "    }\n",
              "</style>\n",
              "<table border=\"1\" class=\"dataframe\">\n",
              "  <thead>\n",
              "    <tr style=\"text-align: right;\">\n",
              "      <th></th>\n",
              "      <th>GDP</th>\n",
              "      <th>thinness 1-19 years</th>\n",
              "      <th>thinness 5-9 years</th>\n",
              "      <th>Income composition of resources</th>\n",
              "      <th>Schooling</th>\n",
              "    </tr>\n",
              "  </thead>\n",
              "  <tbody>\n",
              "    <tr>\n",
              "      <th>Life expectancy</th>\n",
              "      <td>NaN</td>\n",
              "      <td>NaN</td>\n",
              "      <td>NaN</td>\n",
              "      <td>0.724776</td>\n",
              "      <td>0.751975</td>\n",
              "    </tr>\n",
              "    <tr>\n",
              "      <th>percentage expenditure</th>\n",
              "      <td>0.89937</td>\n",
              "      <td>NaN</td>\n",
              "      <td>NaN</td>\n",
              "      <td>NaN</td>\n",
              "      <td>NaN</td>\n",
              "    </tr>\n",
              "    <tr>\n",
              "      <th>thinness 1-19 years</th>\n",
              "      <td>NaN</td>\n",
              "      <td>NaN</td>\n",
              "      <td>0.938953</td>\n",
              "      <td>NaN</td>\n",
              "      <td>NaN</td>\n",
              "    </tr>\n",
              "    <tr>\n",
              "      <th>thinness 5-9 years</th>\n",
              "      <td>NaN</td>\n",
              "      <td>0.938953</td>\n",
              "      <td>NaN</td>\n",
              "      <td>NaN</td>\n",
              "      <td>NaN</td>\n",
              "    </tr>\n",
              "    <tr>\n",
              "      <th>Income composition of resources</th>\n",
              "      <td>NaN</td>\n",
              "      <td>NaN</td>\n",
              "      <td>NaN</td>\n",
              "      <td>NaN</td>\n",
              "      <td>0.800046</td>\n",
              "    </tr>\n",
              "    <tr>\n",
              "      <th>Schooling</th>\n",
              "      <td>NaN</td>\n",
              "      <td>NaN</td>\n",
              "      <td>NaN</td>\n",
              "      <td>0.800046</td>\n",
              "      <td>NaN</td>\n",
              "    </tr>\n",
              "  </tbody>\n",
              "</table>\n",
              "</div>"
            ],
            "text/plain": [
              "                                     GDP  thinness 1-19 years  \\\n",
              "Life expectancy                      NaN                  NaN   \n",
              "percentage expenditure           0.89937                  NaN   \n",
              "thinness 1-19 years                  NaN                  NaN   \n",
              "thinness 5-9 years                   NaN             0.938953   \n",
              "Income composition of resources      NaN                  NaN   \n",
              "Schooling                            NaN                  NaN   \n",
              "\n",
              "                                 thinness 5-9 years  \\\n",
              "Life expectancy                                 NaN   \n",
              "percentage expenditure                          NaN   \n",
              "thinness 1-19 years                        0.938953   \n",
              "thinness 5-9 years                              NaN   \n",
              "Income composition of resources                 NaN   \n",
              "Schooling                                       NaN   \n",
              "\n",
              "                                 Income composition of resources  Schooling  \n",
              "Life expectancy                                         0.724776   0.751975  \n",
              "percentage expenditure                                       NaN        NaN  \n",
              "thinness 1-19 years                                          NaN        NaN  \n",
              "thinness 5-9 years                                           NaN        NaN  \n",
              "Income composition of resources                              NaN   0.800046  \n",
              "Schooling                                               0.800046        NaN  "
            ]
          },
          "execution_count": 10,
          "metadata": {},
          "output_type": "execute_result"
        }
      ],
      "source": [
        "cols_with_na = cleaning.columns[cleaning.isnull().sum() > 0].to_list()\n",
        "cols_with_na_corr = cleaning.corr()[cols_with_na]\n",
        "filtered_corr = cols_with_na_corr[cols_with_na_corr.abs() > 0.7]\n",
        "filtered_corr = filtered_corr[filtered_corr.abs() < 1]\n",
        "print('count of high correlation scores in the correlation matrix:', filtered_corr.count().sum())\n",
        "filtered_corr = filtered_corr.dropna(axis=0, how= 'all')\n",
        "filtered_corr = filtered_corr.dropna(axis=1, how= 'all')\n",
        "filtered_corr"
      ]
    },
    {
      "cell_type": "markdown",
      "metadata": {
        "id": "Yr0cFWzeg388"
      },
      "source": [
        "as you can see here. there are really strong linear relationship over searched attributes"
      ]
    },
    {
      "cell_type": "code",
      "execution_count": 11,
      "metadata": {
        "id": "3xz_ra1AguvG"
      },
      "outputs": [],
      "source": [
        "plotting_pairs = []\n",
        "\n",
        "for feature_name in filtered_corr.columns.to_list():\n",
        "  highly_correlated_cols = filtered_corr[feature_name]\n",
        "  highly_correlated_cols = highly_correlated_cols.sort_values(ascending=False)\n",
        "  for index, value in highly_correlated_cols.items():\n",
        "    if not pd.isnull(value):\n",
        "      plotting_pairs.append([index, feature_name])"
      ]
    },
    {
      "cell_type": "code",
      "execution_count": 12,
      "metadata": {
        "colab": {
          "base_uri": "https://localhost:8080/",
          "height": 683,
          "referenced_widgets": [
            "f0cb0c31609b486c80e1265a8df0862b",
            "f6b8644b7e6640958db6bcabe9e6a727",
            "5fd748c09eb64c9d93e6d1797f8ce146",
            "6c85c7fed9b743749bc6a78e7006a4b9",
            "d4954f2046e8410c8c9bab930b63bc20",
            "c842d2aebaa9431986bf083dd3dffe72",
            "85b26758e8a24249963043bb09239fd5"
          ]
        },
        "id": "q7_nCAkiSi09",
        "outputId": "16b9cff6-dc54-4a32-f8dc-fb8edf57b3f0"
      },
      "outputs": [
        {
          "data": {
            "application/vnd.jupyter.widget-view+json": {
              "model_id": "3322885ccbcc43928331207eb8f27c03",
              "version_major": 2,
              "version_minor": 0
            },
            "text/plain": [
              "interactive(children=(Dropdown(description='Feature Pair:', options=('percentage expenditure vs GDP', 'thinnes…"
            ]
          },
          "metadata": {},
          "output_type": "display_data"
        },
        {
          "data": {
            "text/plain": [
              "<function __main__.plot_regression(selected_pair)>"
            ]
          },
          "execution_count": 12,
          "metadata": {},
          "output_type": "execute_result"
        }
      ],
      "source": [
        "def plot_regression(selected_pair):\n",
        "    feature1, feature2 = selected_pair.split(' vs ')\n",
        "    plt.figure(figsize=(8, 6))\n",
        "    sns.regplot(x=feature1, y=feature2, data=cleaning, marker='o')\n",
        "    plt.title(f'Regression Plot')\n",
        "    plt.xlabel(feature1)\n",
        "    plt.ylabel(feature2)\n",
        "    plt.grid(True)\n",
        "    plt.show()\n",
        "\n",
        "\n",
        "# Create a dropdown with each pair of features\n",
        "pair_options = [f\"{pair[0]} vs {pair[1]}\" for pair in plotting_pairs]\n",
        "pair_dropdown = widgets.Dropdown(options=pair_options, description='Feature Pair:')\n",
        "widgets.interact(plot_regression, selected_pair=pair_dropdown)"
      ]
    },
    {
      "cell_type": "markdown",
      "metadata": {
        "id": "UUV6NH7LeUwu"
      },
      "source": [
        "then we tried to fill missing values of each feature in the previous correlation matrix by looping over attributes with missing values and its highly correlated features and making a simple linear regression model where highly correlated feature is the independant variable and the feature with missing values is the dependant variable.\n",
        "then we tried to predict the missing values of the target with the independant variable values."
      ]
    },
    {
      "cell_type": "code",
      "execution_count": 13,
      "metadata": {
        "colab": {
          "base_uri": "https://localhost:8080/"
        },
        "id": "p7qO2qRw9eyV",
        "outputId": "da0d454d-d72e-455f-eeb1-d34fc49ed557"
      },
      "outputs": [
        {
          "name": "stdout",
          "output_type": "stream",
          "text": [
            "number of missing values imputed: 763\n"
          ]
        }
      ],
      "source": [
        "def impute(col_name, no_null_dataset, dataset):\n",
        "  copy = dataset.copy()\n",
        "  filler_name_list = no_null_dataset.columns.to_list()\n",
        "  filler_name_list.remove(col_name)\n",
        "  model = LinearRegression()\n",
        "  model.fit(no_null_dataset.drop(col_name, axis='columns'), no_null_dataset[col_name])\n",
        "  missing_rows = copy[copy[col_name].isnull()]\n",
        "  missing_rows = missing_rows.dropna(subset = filler_name_list)\n",
        "  X = missing_rows.drop(col_name, axis=1)\n",
        "  if X.count().sum() > 0:\n",
        "    predicted_values = model.predict(X)\n",
        "    copy.loc[missing_rows.index, col_name] = predicted_values\n",
        "  return copy[col_name]\n",
        "\n",
        "null_count_before_imputing = cleaning.isna().sum()\n",
        "\n",
        "for column_to_fill in filtered_corr.columns.to_list():\n",
        "  correlations = filtered_corr[column_to_fill]\n",
        "  correlations = correlations.sort_values(ascending=False)\n",
        "  for filler_column, correlation_value in correlations.items():\n",
        "    if not pd.isnull(correlation_value):\n",
        "      dataset_imputing = cleaning[[column_to_fill, filler_column]]\n",
        "      dataset_imputing_no_null = dataset_imputing.dropna()\n",
        "      cleaning[column_to_fill] = impute(column_to_fill, dataset_imputing_no_null, dataset_imputing)\n",
        "\n",
        "null_count_after_imputing = cleaning.isna().sum()\n",
        "\n",
        "print('number of missing values imputed:', (null_count_before_imputing - null_count_after_imputing).sum())"
      ]
    },
    {
      "cell_type": "markdown",
      "metadata": {
        "id": "5QgTyAlWfMbE"
      },
      "source": [
        "then we fill the remaining missing values with median values"
      ]
    },
    {
      "cell_type": "code",
      "execution_count": 14,
      "metadata": {
        "id": "G0nhw2pXXatA"
      },
      "outputs": [],
      "source": [
        "median_values = cleaning.median()\n",
        "cleaning.fillna(median_values, inplace=True)"
      ]
    },
    {
      "cell_type": "markdown",
      "metadata": {
        "id": "dcjt43oagVL5"
      },
      "source": [
        "cleaning done. renaming dataset to data for the sake of readability"
      ]
    },
    {
      "cell_type": "code",
      "execution_count": 15,
      "metadata": {
        "colab": {
          "base_uri": "https://localhost:8080/"
        },
        "id": "MV3KcOZKYWzx",
        "outputId": "2667244c-6686-4ebe-a166-c1ee55ac0c74"
      },
      "outputs": [
        {
          "name": "stdout",
          "output_type": "stream",
          "text": [
            "   Life expectancy  Adult Mortality  infant deaths  Alcohol  \\\n",
            "0             65.0            263.0             62     0.01   \n",
            "1             59.9            271.0             64     0.01   \n",
            "2             59.9            268.0             66     0.01   \n",
            "3             59.5            272.0             69     0.01   \n",
            "4             59.2            275.0             71     0.01   \n",
            "\n",
            "   percentage expenditure  Hepatitis B  Measles   BMI  under-five deaths  \\\n",
            "0               71.279624         65.0     1154  19.1                 83   \n",
            "1               73.523582         62.0      492  18.6                 86   \n",
            "2               73.219243         64.0      430  18.1                 89   \n",
            "3               78.184215         67.0     2787  17.6                 93   \n",
            "4                7.097109         68.0     3013  17.2                 97   \n",
            "\n",
            "   Polio  Total expenditure  Diphtheria  HIV/AIDS         GDP  Population  \\\n",
            "0    6.0               8.16        65.0       0.1  584.259210  33736494.0   \n",
            "1   58.0               8.18        62.0       0.1  612.696514    327582.0   \n",
            "2   62.0               8.13        64.0       0.1  631.744976  31731688.0   \n",
            "3   67.0               8.52        67.0       0.1  669.959000   3696958.0   \n",
            "4   68.0               7.87        68.0       0.1   63.537231   2978599.0   \n",
            "\n",
            "   thinness 1-19 years  thinness 5-9 years  Income composition of resources  \\\n",
            "0                 17.2                17.3                            0.479   \n",
            "1                 17.5                17.5                            0.476   \n",
            "2                 17.7                17.7                            0.470   \n",
            "3                 17.9                18.0                            0.463   \n",
            "4                 18.2                18.2                            0.454   \n",
            "\n",
            "   Schooling  Developed  \n",
            "0       10.1          0  \n",
            "1       10.0          0  \n",
            "2        9.9          0  \n",
            "3        9.8          0  \n",
            "4        9.5          0  \n"
          ]
        }
      ],
      "source": [
        "data = cleaning\n",
        "print(data.head())"
      ]
    },
    {
      "cell_type": "markdown",
      "metadata": {
        "id": "hKnIh97f5Z_K"
      },
      "source": [
        "Visualization"
      ]
    },
    {
      "cell_type": "code",
      "execution_count": 16,
      "metadata": {
        "colab": {
          "base_uri": "https://localhost:8080/",
          "height": 1000
        },
        "id": "d-OZ1FWO5YI8",
        "outputId": "ff14158b-1337-4441-ae10-9339d31bd727"
      },
      "outputs": [
        {
          "data": {
            "image/png": "[encoded data removed]",
            "text/plain": [
              "<Figure size 1200x1200 with 2 Axes>"
            ]
          },
          "metadata": {},
          "output_type": "display_data"
        }
      ],
      "source": [
        "correlation = np.round(data.corr(), 2)\n",
        "plt.figure(figsize=(12,12))\n",
        "sns.heatmap(data=correlation, annot=True, cmap='coolwarm', square=True)\n",
        "plt.show()"
      ]
    },
    {
      "cell_type": "code",
      "execution_count": 17,
      "metadata": {},
      "outputs": [
        {
          "data": {
            "image/png": "[encoded data removed]",
            "text/plain": [
              "<Figure size 1500x1200 with 20 Axes>"
            ]
          },
          "metadata": {},
          "output_type": "display_data"
        }
      ],
      "source": [
        "numeric_columns = data.select_dtypes(include=['number']).columns\n",
        "\n",
        "# Plot histograms\n",
        "data[numeric_columns].hist(figsize=(15, 12), bins=30)\n",
        "plt.grid(False)\n",
        "plt.tight_layout()\n",
        "plt.subplots_adjust(top=0.95)  \n",
        "plt.show()"
      ]
    },
    {
      "cell_type": "markdown",
      "metadata": {
        "id": "j2stTRijb4Zk"
      },
      "source": [
        "**MODEL**"
      ]
    },
    {
      "cell_type": "code",
      "execution_count": 18,
      "metadata": {
        "id": "547IYfEGYXAC"
      },
      "outputs": [
        {
          "data": {
            "text/html": [
              "<div>\n",
              "<style scoped>\n",
              "    .dataframe tbody tr th:only-of-type {\n",
              "        vertical-align: middle;\n",
              "    }\n",
              "\n",
              "    .dataframe tbody tr th {\n",
              "        vertical-align: top;\n",
              "    }\n",
              "\n",
              "    .dataframe thead th {\n",
              "        text-align: right;\n",
              "    }\n",
              "</style>\n",
              "<table border=\"1\" class=\"dataframe\">\n",
              "  <thead>\n",
              "    <tr style=\"text-align: right;\">\n",
              "      <th></th>\n",
              "      <th>Adult Mortality</th>\n",
              "      <th>infant deaths</th>\n",
              "      <th>Alcohol</th>\n",
              "      <th>percentage expenditure</th>\n",
              "      <th>Hepatitis B</th>\n",
              "      <th>Measles</th>\n",
              "      <th>BMI</th>\n",
              "      <th>under-five deaths</th>\n",
              "      <th>Polio</th>\n",
              "      <th>Total expenditure</th>\n",
              "      <th>Diphtheria</th>\n",
              "      <th>HIV/AIDS</th>\n",
              "      <th>GDP</th>\n",
              "      <th>Population</th>\n",
              "      <th>thinness 1-19 years</th>\n",
              "      <th>thinness 5-9 years</th>\n",
              "      <th>Income composition of resources</th>\n",
              "      <th>Schooling</th>\n",
              "      <th>Developed</th>\n",
              "    </tr>\n",
              "  </thead>\n",
              "  <tbody>\n",
              "    <tr>\n",
              "      <th>1911</th>\n",
              "      <td>61.0</td>\n",
              "      <td>0</td>\n",
              "      <td>6.06</td>\n",
              "      <td>177.638288</td>\n",
              "      <td>92.0</td>\n",
              "      <td>3</td>\n",
              "      <td>6.8</td>\n",
              "      <td>0</td>\n",
              "      <td>93.0</td>\n",
              "      <td>9.72</td>\n",
              "      <td>93.0</td>\n",
              "      <td>0.1</td>\n",
              "      <td>975.498560</td>\n",
              "      <td>5137232.0</td>\n",
              "      <td>0.8</td>\n",
              "      <td>0.7</td>\n",
              "      <td>0.945</td>\n",
              "      <td>17.7</td>\n",
              "      <td>1</td>\n",
              "    </tr>\n",
              "    <tr>\n",
              "      <th>954</th>\n",
              "      <td>291.0</td>\n",
              "      <td>2</td>\n",
              "      <td>9.02</td>\n",
              "      <td>545.438957</td>\n",
              "      <td>75.0</td>\n",
              "      <td>0</td>\n",
              "      <td>31.9</td>\n",
              "      <td>3</td>\n",
              "      <td>78.0</td>\n",
              "      <td>2.86</td>\n",
              "      <td>81.0</td>\n",
              "      <td>10.0</td>\n",
              "      <td>8352.817110</td>\n",
              "      <td>1489193.0</td>\n",
              "      <td>6.9</td>\n",
              "      <td>6.8</td>\n",
              "      <td>0.645</td>\n",
              "      <td>12.4</td>\n",
              "      <td>0</td>\n",
              "    </tr>\n",
              "    <tr>\n",
              "      <th>1049</th>\n",
              "      <td>162.0</td>\n",
              "      <td>0</td>\n",
              "      <td>8.92</td>\n",
              "      <td>754.959713</td>\n",
              "      <td>99.0</td>\n",
              "      <td>0</td>\n",
              "      <td>42.4</td>\n",
              "      <td>0</td>\n",
              "      <td>99.0</td>\n",
              "      <td>5.76</td>\n",
              "      <td>99.0</td>\n",
              "      <td>0.1</td>\n",
              "      <td>7946.944346</td>\n",
              "      <td>1391756.5</td>\n",
              "      <td>3.8</td>\n",
              "      <td>3.9</td>\n",
              "      <td>0.000</td>\n",
              "      <td>15.4</td>\n",
              "      <td>0</td>\n",
              "    </tr>\n",
              "    <tr>\n",
              "      <th>1714</th>\n",
              "      <td>185.0</td>\n",
              "      <td>0</td>\n",
              "      <td>2.23</td>\n",
              "      <td>0.000000</td>\n",
              "      <td>87.0</td>\n",
              "      <td>0</td>\n",
              "      <td>61.5</td>\n",
              "      <td>0</td>\n",
              "      <td>85.0</td>\n",
              "      <td>7.88</td>\n",
              "      <td>85.0</td>\n",
              "      <td>0.1</td>\n",
              "      <td>2244.566222</td>\n",
              "      <td>1391756.5</td>\n",
              "      <td>0.3</td>\n",
              "      <td>0.3</td>\n",
              "      <td>0.000</td>\n",
              "      <td>0.0</td>\n",
              "      <td>0</td>\n",
              "    </tr>\n",
              "    <tr>\n",
              "      <th>2021</th>\n",
              "      <td>142.0</td>\n",
              "      <td>17</td>\n",
              "      <td>4.22</td>\n",
              "      <td>302.535906</td>\n",
              "      <td>92.0</td>\n",
              "      <td>0</td>\n",
              "      <td>46.1</td>\n",
              "      <td>22</td>\n",
              "      <td>9.0</td>\n",
              "      <td>4.98</td>\n",
              "      <td>9.0</td>\n",
              "      <td>0.5</td>\n",
              "      <td>1981.243653</td>\n",
              "      <td>26261363.0</td>\n",
              "      <td>1.4</td>\n",
              "      <td>1.4</td>\n",
              "      <td>0.677</td>\n",
              "      <td>13.4</td>\n",
              "      <td>0</td>\n",
              "    </tr>\n",
              "    <tr>\n",
              "      <th>...</th>\n",
              "      <td>...</td>\n",
              "      <td>...</td>\n",
              "      <td>...</td>\n",
              "      <td>...</td>\n",
              "      <td>...</td>\n",
              "      <td>...</td>\n",
              "      <td>...</td>\n",
              "      <td>...</td>\n",
              "      <td>...</td>\n",
              "      <td>...</td>\n",
              "      <td>...</td>\n",
              "      <td>...</td>\n",
              "      <td>...</td>\n",
              "      <td>...</td>\n",
              "      <td>...</td>\n",
              "      <td>...</td>\n",
              "      <td>...</td>\n",
              "      <td>...</td>\n",
              "      <td>...</td>\n",
              "    </tr>\n",
              "    <tr>\n",
              "      <th>1640</th>\n",
              "      <td>63.0</td>\n",
              "      <td>0</td>\n",
              "      <td>7.38</td>\n",
              "      <td>335.518057</td>\n",
              "      <td>86.0</td>\n",
              "      <td>1</td>\n",
              "      <td>67.1</td>\n",
              "      <td>0</td>\n",
              "      <td>73.0</td>\n",
              "      <td>8.33</td>\n",
              "      <td>73.0</td>\n",
              "      <td>0.1</td>\n",
              "      <td>2675.582590</td>\n",
              "      <td>412477.0</td>\n",
              "      <td>0.8</td>\n",
              "      <td>0.7</td>\n",
              "      <td>0.815</td>\n",
              "      <td>14.4</td>\n",
              "      <td>1</td>\n",
              "    </tr>\n",
              "    <tr>\n",
              "      <th>1097</th>\n",
              "      <td>297.0</td>\n",
              "      <td>5</td>\n",
              "      <td>2.64</td>\n",
              "      <td>28.301911</td>\n",
              "      <td>92.0</td>\n",
              "      <td>12</td>\n",
              "      <td>21.9</td>\n",
              "      <td>7</td>\n",
              "      <td>77.0</td>\n",
              "      <td>6.50</td>\n",
              "      <td>77.0</td>\n",
              "      <td>6.0</td>\n",
              "      <td>583.544562</td>\n",
              "      <td>148841.0</td>\n",
              "      <td>8.5</td>\n",
              "      <td>8.4</td>\n",
              "      <td>0.398</td>\n",
              "      <td>8.8</td>\n",
              "      <td>0</td>\n",
              "    </tr>\n",
              "    <tr>\n",
              "      <th>1132</th>\n",
              "      <td>29.0</td>\n",
              "      <td>17</td>\n",
              "      <td>5.57</td>\n",
              "      <td>38.109043</td>\n",
              "      <td>92.0</td>\n",
              "      <td>0</td>\n",
              "      <td>38.5</td>\n",
              "      <td>24</td>\n",
              "      <td>6.0</td>\n",
              "      <td>4.41</td>\n",
              "      <td>6.0</td>\n",
              "      <td>3.9</td>\n",
              "      <td>465.311876</td>\n",
              "      <td>926344.0</td>\n",
              "      <td>4.4</td>\n",
              "      <td>4.4</td>\n",
              "      <td>0.452</td>\n",
              "      <td>8.2</td>\n",
              "      <td>0</td>\n",
              "    </tr>\n",
              "    <tr>\n",
              "      <th>1296</th>\n",
              "      <td>75.0</td>\n",
              "      <td>2</td>\n",
              "      <td>9.69</td>\n",
              "      <td>3.122230</td>\n",
              "      <td>95.0</td>\n",
              "      <td>0</td>\n",
              "      <td>55.7</td>\n",
              "      <td>3</td>\n",
              "      <td>96.0</td>\n",
              "      <td>8.11</td>\n",
              "      <td>93.0</td>\n",
              "      <td>0.1</td>\n",
              "      <td>24.819000</td>\n",
              "      <td>569741.0</td>\n",
              "      <td>0.5</td>\n",
              "      <td>0.5</td>\n",
              "      <td>0.828</td>\n",
              "      <td>14.9</td>\n",
              "      <td>1</td>\n",
              "    </tr>\n",
              "    <tr>\n",
              "      <th>862</th>\n",
              "      <td>343.0</td>\n",
              "      <td>7</td>\n",
              "      <td>0.56</td>\n",
              "      <td>6.913998</td>\n",
              "      <td>91.0</td>\n",
              "      <td>376</td>\n",
              "      <td>13.3</td>\n",
              "      <td>10</td>\n",
              "      <td>95.0</td>\n",
              "      <td>3.50</td>\n",
              "      <td>93.0</td>\n",
              "      <td>1.9</td>\n",
              "      <td>232.794546</td>\n",
              "      <td>3738265.0</td>\n",
              "      <td>9.7</td>\n",
              "      <td>9.7</td>\n",
              "      <td>0.000</td>\n",
              "      <td>4.7</td>\n",
              "      <td>0</td>\n",
              "    </tr>\n",
              "  </tbody>\n",
              "</table>\n",
              "<p>2049 rows × 19 columns</p>\n",
              "</div>"
            ],
            "text/plain": [
              "      Adult Mortality  infant deaths  Alcohol  percentage expenditure  \\\n",
              "1911             61.0              0     6.06              177.638288   \n",
              "954             291.0              2     9.02              545.438957   \n",
              "1049            162.0              0     8.92              754.959713   \n",
              "1714            185.0              0     2.23                0.000000   \n",
              "2021            142.0             17     4.22              302.535906   \n",
              "...               ...            ...      ...                     ...   \n",
              "1640             63.0              0     7.38              335.518057   \n",
              "1097            297.0              5     2.64               28.301911   \n",
              "1132             29.0             17     5.57               38.109043   \n",
              "1296             75.0              2     9.69                3.122230   \n",
              "862             343.0              7     0.56                6.913998   \n",
              "\n",
              "      Hepatitis B  Measles   BMI  under-five deaths  Polio  Total expenditure  \\\n",
              "1911         92.0        3   6.8                  0   93.0               9.72   \n",
              "954          75.0        0  31.9                  3   78.0               2.86   \n",
              "1049         99.0        0  42.4                  0   99.0               5.76   \n",
              "1714         87.0        0  61.5                  0   85.0               7.88   \n",
              "2021         92.0        0  46.1                 22    9.0               4.98   \n",
              "...           ...      ...   ...                ...    ...                ...   \n",
              "1640         86.0        1  67.1                  0   73.0               8.33   \n",
              "1097         92.0       12  21.9                  7   77.0               6.50   \n",
              "1132         92.0        0  38.5                 24    6.0               4.41   \n",
              "1296         95.0        0  55.7                  3   96.0               8.11   \n",
              "862          91.0      376  13.3                 10   95.0               3.50   \n",
              "\n",
              "      Diphtheria  HIV/AIDS          GDP  Population  thinness 1-19 years  \\\n",
              "1911        93.0       0.1   975.498560   5137232.0                  0.8   \n",
              "954         81.0      10.0  8352.817110   1489193.0                  6.9   \n",
              "1049        99.0       0.1  7946.944346   1391756.5                  3.8   \n",
              "1714        85.0       0.1  2244.566222   1391756.5                  0.3   \n",
              "2021         9.0       0.5  1981.243653  26261363.0                  1.4   \n",
              "...          ...       ...          ...         ...                  ...   \n",
              "1640        73.0       0.1  2675.582590    412477.0                  0.8   \n",
              "1097        77.0       6.0   583.544562    148841.0                  8.5   \n",
              "1132         6.0       3.9   465.311876    926344.0                  4.4   \n",
              "1296        93.0       0.1    24.819000    569741.0                  0.5   \n",
              "862         93.0       1.9   232.794546   3738265.0                  9.7   \n",
              "\n",
              "      thinness 5-9 years  Income composition of resources  Schooling  \\\n",
              "1911                 0.7                            0.945       17.7   \n",
              "954                  6.8                            0.645       12.4   \n",
              "1049                 3.9                            0.000       15.4   \n",
              "1714                 0.3                            0.000        0.0   \n",
              "2021                 1.4                            0.677       13.4   \n",
              "...                  ...                              ...        ...   \n",
              "1640                 0.7                            0.815       14.4   \n",
              "1097                 8.4                            0.398        8.8   \n",
              "1132                 4.4                            0.452        8.2   \n",
              "1296                 0.5                            0.828       14.9   \n",
              "862                  9.7                            0.000        4.7   \n",
              "\n",
              "      Developed  \n",
              "1911          1  \n",
              "954           0  \n",
              "1049          0  \n",
              "1714          0  \n",
              "2021          0  \n",
              "...         ...  \n",
              "1640          1  \n",
              "1097          0  \n",
              "1132          0  \n",
              "1296          1  \n",
              "862           0  \n",
              "\n",
              "[2049 rows x 19 columns]"
            ]
          },
          "execution_count": 18,
          "metadata": {},
          "output_type": "execute_result"
        }
      ],
      "source": [
        "dropped_columns = ['Life expectancy']\n",
        "X=data.drop(dropped_columns, axis=1)\n",
        "y=data['Life expectancy']\n",
        "X_train, X_test, y_train, y_test=train_test_split(X,y,test_size=0.3,random_state=42)\n",
        "X_train"
      ]
    },
    {
      "cell_type": "code",
      "execution_count": 19,
      "metadata": {
        "colab": {
          "base_uri": "https://localhost:8080/",
          "height": 871
        },
        "id": "nb0VdLbwcIgi",
        "outputId": "f870d54c-e56a-42f1-a96a-b18197bae717"
      },
      "outputs": [
        {
          "data": {
            "text/html": [
              "<table class=\"simpletable\">\n",
              "<caption>OLS Regression Results</caption>\n",
              "<tr>\n",
              "  <th>Dep. Variable:</th>     <td>Life expectancy</td> <th>  R-squared:         </th> <td>   0.835</td> \n",
              "</tr>\n",
              "<tr>\n",
              "  <th>Model:</th>                   <td>OLS</td>       <th>  Adj. R-squared:    </th> <td>   0.833</td> \n",
              "</tr>\n",
              "<tr>\n",
              "  <th>Method:</th>             <td>Least Squares</td>  <th>  F-statistic:       </th> <td>   538.6</td> \n",
              "</tr>\n",
              "<tr>\n",
              "  <th>Date:</th>             <td>Fri, 27 Jun 2025</td> <th>  Prob (F-statistic):</th>  <td>  0.00</td>  \n",
              "</tr>\n",
              "<tr>\n",
              "  <th>Time:</th>                 <td>03:14:34</td>     <th>  Log-Likelihood:    </th> <td> -5668.5</td> \n",
              "</tr>\n",
              "<tr>\n",
              "  <th>No. Observations:</th>      <td>  2049</td>      <th>  AIC:               </th> <td>1.138e+04</td>\n",
              "</tr>\n",
              "<tr>\n",
              "  <th>Df Residuals:</th>          <td>  2029</td>      <th>  BIC:               </th> <td>1.149e+04</td>\n",
              "</tr>\n",
              "<tr>\n",
              "  <th>Df Model:</th>              <td>    19</td>      <th>                     </th>     <td> </td>    \n",
              "</tr>\n",
              "<tr>\n",
              "  <th>Covariance Type:</th>      <td>nonrobust</td>    <th>                     </th>     <td> </td>    \n",
              "</tr>\n",
              "</table>\n",
              "<table class=\"simpletable\">\n",
              "<tr>\n",
              "                 <td></td>                    <th>coef</th>     <th>std err</th>      <th>t</th>      <th>P>|t|</th>  <th>[0.025</th>    <th>0.975]</th>  \n",
              "</tr>\n",
              "<tr>\n",
              "  <th>const</th>                           <td>   54.5308</td> <td>    0.673</td> <td>   80.982</td> <td> 0.000</td> <td>   53.210</td> <td>   55.851</td>\n",
              "</tr>\n",
              "<tr>\n",
              "  <th>Adult Mortality</th>                 <td>   -0.0179</td> <td>    0.001</td> <td>  -19.544</td> <td> 0.000</td> <td>   -0.020</td> <td>   -0.016</td>\n",
              "</tr>\n",
              "<tr>\n",
              "  <th>infant deaths</th>                   <td>    0.0934</td> <td>    0.010</td> <td>    9.692</td> <td> 0.000</td> <td>    0.074</td> <td>    0.112</td>\n",
              "</tr>\n",
              "<tr>\n",
              "  <th>Alcohol</th>                         <td>    0.0283</td> <td>    0.030</td> <td>    0.945</td> <td> 0.345</td> <td>   -0.030</td> <td>    0.087</td>\n",
              "</tr>\n",
              "<tr>\n",
              "  <th>percentage expenditure</th>          <td>    0.0001</td> <td>    0.000</td> <td>    1.118</td> <td> 0.264</td> <td>-8.64e-05</td> <td>    0.000</td>\n",
              "</tr>\n",
              "<tr>\n",
              "  <th>Hepatitis B</th>                     <td>   -0.0116</td> <td>    0.004</td> <td>   -2.715</td> <td> 0.007</td> <td>   -0.020</td> <td>   -0.003</td>\n",
              "</tr>\n",
              "<tr>\n",
              "  <th>Measles</th>                         <td>-1.833e-05</td> <td> 8.39e-06</td> <td>   -2.184</td> <td> 0.029</td> <td>-3.48e-05</td> <td>-1.87e-06</td>\n",
              "</tr>\n",
              "<tr>\n",
              "  <th>BMI</th>                             <td>    0.0341</td> <td>    0.006</td> <td>    6.040</td> <td> 0.000</td> <td>    0.023</td> <td>    0.045</td>\n",
              "</tr>\n",
              "<tr>\n",
              "  <th>under-five deaths</th>               <td>   -0.0686</td> <td>    0.007</td> <td>   -9.821</td> <td> 0.000</td> <td>   -0.082</td> <td>   -0.055</td>\n",
              "</tr>\n",
              "<tr>\n",
              "  <th>Polio</th>                           <td>    0.0271</td> <td>    0.005</td> <td>    5.322</td> <td> 0.000</td> <td>    0.017</td> <td>    0.037</td>\n",
              "</tr>\n",
              "<tr>\n",
              "  <th>Total expenditure</th>               <td>    0.0125</td> <td>    0.039</td> <td>    0.323</td> <td> 0.747</td> <td>   -0.063</td> <td>    0.088</td>\n",
              "</tr>\n",
              "<tr>\n",
              "  <th>Diphtheria</th>                      <td>    0.0295</td> <td>    0.005</td> <td>    5.725</td> <td> 0.000</td> <td>    0.019</td> <td>    0.040</td>\n",
              "</tr>\n",
              "<tr>\n",
              "  <th>HIV/AIDS</th>                        <td>   -0.5021</td> <td>    0.020</td> <td>  -25.304</td> <td> 0.000</td> <td>   -0.541</td> <td>   -0.463</td>\n",
              "</tr>\n",
              "<tr>\n",
              "  <th>GDP</th>                             <td> 3.066e-05</td> <td> 1.52e-05</td> <td>    2.016</td> <td> 0.044</td> <td> 8.32e-07</td> <td> 6.05e-05</td>\n",
              "</tr>\n",
              "<tr>\n",
              "  <th>Population</th>                      <td>-2.492e-09</td> <td> 1.98e-09</td> <td>   -1.257</td> <td> 0.209</td> <td>-6.38e-09</td> <td>  1.4e-09</td>\n",
              "</tr>\n",
              "<tr>\n",
              "  <th>thinness 1-19 years</th>             <td>   -0.0755</td> <td>    0.053</td> <td>   -1.430</td> <td> 0.153</td> <td>   -0.179</td> <td>    0.028</td>\n",
              "</tr>\n",
              "<tr>\n",
              "  <th>thinness 5-9 years</th>              <td>   -0.0183</td> <td>    0.052</td> <td>   -0.352</td> <td> 0.725</td> <td>   -0.121</td> <td>    0.084</td>\n",
              "</tr>\n",
              "<tr>\n",
              "  <th>Income composition of resources</th> <td>    6.8265</td> <td>    0.725</td> <td>    9.413</td> <td> 0.000</td> <td>    5.404</td> <td>    8.249</td>\n",
              "</tr>\n",
              "<tr>\n",
              "  <th>Schooling</th>                       <td>    0.7658</td> <td>    0.048</td> <td>   15.922</td> <td> 0.000</td> <td>    0.671</td> <td>    0.860</td>\n",
              "</tr>\n",
              "<tr>\n",
              "  <th>Developed</th>                       <td>    1.2014</td> <td>    0.308</td> <td>    3.900</td> <td> 0.000</td> <td>    0.597</td> <td>    1.806</td>\n",
              "</tr>\n",
              "</table>\n",
              "<table class=\"simpletable\">\n",
              "<tr>\n",
              "  <th>Omnibus:</th>       <td>115.742</td> <th>  Durbin-Watson:     </th> <td>   2.016</td> \n",
              "</tr>\n",
              "<tr>\n",
              "  <th>Prob(Omnibus):</th> <td> 0.000</td>  <th>  Jarque-Bera (JB):  </th> <td> 459.635</td> \n",
              "</tr>\n",
              "<tr>\n",
              "  <th>Skew:</th>          <td> 0.035</td>  <th>  Prob(JB):          </th> <td>1.55e-100</td>\n",
              "</tr>\n",
              "<tr>\n",
              "  <th>Kurtosis:</th>      <td> 5.319</td>  <th>  Cond. No.          </th> <td>4.64e+08</td> \n",
              "</tr>\n",
              "</table><br/><br/>Notes:<br/>[1] Standard Errors assume that the covariance matrix of the errors is correctly specified.<br/>[2] The condition number is large, 4.64e+08. This might indicate that there are<br/>strong multicollinearity or other numerical problems."
            ],
            "text/latex": [
              "\\begin{center}\n",
              "\\begin{tabular}{lclc}\n",
              "\\toprule\n",
              "\\textbf{Dep. Variable:}                  & Life expectancy  & \\textbf{  R-squared:         } &     0.835   \\\\\n",
              "\\textbf{Model:}                          &       OLS        & \\textbf{  Adj. R-squared:    } &     0.833   \\\\\n",
              "\\textbf{Method:}                         &  Least Squares   & \\textbf{  F-statistic:       } &     538.6   \\\\\n",
              "\\textbf{Date:}                           & Fri, 27 Jun 2025 & \\textbf{  Prob (F-statistic):} &     0.00    \\\\\n",
              "\\textbf{Time:}                           &     03:14:34     & \\textbf{  Log-Likelihood:    } &   -5668.5   \\\\\n",
              "\\textbf{No. Observations:}               &        2049      & \\textbf{  AIC:               } & 1.138e+04   \\\\\n",
              "\\textbf{Df Residuals:}                   &        2029      & \\textbf{  BIC:               } & 1.149e+04   \\\\\n",
              "\\textbf{Df Model:}                       &          19      & \\textbf{                     } &             \\\\\n",
              "\\textbf{Covariance Type:}                &    nonrobust     & \\textbf{                     } &             \\\\\n",
              "\\bottomrule\n",
              "\\end{tabular}\n",
              "\\begin{tabular}{lcccccc}\n",
              "                                         & \\textbf{coef} & \\textbf{std err} & \\textbf{t} & \\textbf{P$> |$t$|$} & \\textbf{[0.025} & \\textbf{0.975]}  \\\\\n",
              "\\midrule\n",
              "\\textbf{const}                           &      54.5308  &        0.673     &    80.982  &         0.000        &       53.210    &       55.851     \\\\\n",
              "\\textbf{Adult Mortality}                 &      -0.0179  &        0.001     &   -19.544  &         0.000        &       -0.020    &       -0.016     \\\\\n",
              "\\textbf{infant deaths}                   &       0.0934  &        0.010     &     9.692  &         0.000        &        0.074    &        0.112     \\\\\n",
              "\\textbf{Alcohol}                         &       0.0283  &        0.030     &     0.945  &         0.345        &       -0.030    &        0.087     \\\\\n",
              "\\textbf{percentage expenditure}          &       0.0001  &        0.000     &     1.118  &         0.264        &    -8.64e-05    &        0.000     \\\\\n",
              "\\textbf{Hepatitis B}                     &      -0.0116  &        0.004     &    -2.715  &         0.007        &       -0.020    &       -0.003     \\\\\n",
              "\\textbf{Measles}                         &   -1.833e-05  &     8.39e-06     &    -2.184  &         0.029        &    -3.48e-05    &    -1.87e-06     \\\\\n",
              "\\textbf{BMI}                             &       0.0341  &        0.006     &     6.040  &         0.000        &        0.023    &        0.045     \\\\\n",
              "\\textbf{under-five deaths}               &      -0.0686  &        0.007     &    -9.821  &         0.000        &       -0.082    &       -0.055     \\\\\n",
              "\\textbf{Polio}                           &       0.0271  &        0.005     &     5.322  &         0.000        &        0.017    &        0.037     \\\\\n",
              "\\textbf{Total expenditure}               &       0.0125  &        0.039     &     0.323  &         0.747        &       -0.063    &        0.088     \\\\\n",
              "\\textbf{Diphtheria}                      &       0.0295  &        0.005     &     5.725  &         0.000        &        0.019    &        0.040     \\\\\n",
              "\\textbf{HIV/AIDS}                        &      -0.5021  &        0.020     &   -25.304  &         0.000        &       -0.541    &       -0.463     \\\\\n",
              "\\textbf{GDP}                             &    3.066e-05  &     1.52e-05     &     2.016  &         0.044        &     8.32e-07    &     6.05e-05     \\\\\n",
              "\\textbf{Population}                      &   -2.492e-09  &     1.98e-09     &    -1.257  &         0.209        &    -6.38e-09    &      1.4e-09     \\\\\n",
              "\\textbf{thinness 1-19 years}             &      -0.0755  &        0.053     &    -1.430  &         0.153        &       -0.179    &        0.028     \\\\\n",
              "\\textbf{thinness 5-9 years}              &      -0.0183  &        0.052     &    -0.352  &         0.725        &       -0.121    &        0.084     \\\\\n",
              "\\textbf{Income composition of resources} &       6.8265  &        0.725     &     9.413  &         0.000        &        5.404    &        8.249     \\\\\n",
              "\\textbf{Schooling}                       &       0.7658  &        0.048     &    15.922  &         0.000        &        0.671    &        0.860     \\\\\n",
              "\\textbf{Developed}                       &       1.2014  &        0.308     &     3.900  &         0.000        &        0.597    &        1.806     \\\\\n",
              "\\bottomrule\n",
              "\\end{tabular}\n",
              "\\begin{tabular}{lclc}\n",
              "\\textbf{Omnibus:}       & 115.742 & \\textbf{  Durbin-Watson:     } &     2.016  \\\\\n",
              "\\textbf{Prob(Omnibus):} &   0.000 & \\textbf{  Jarque-Bera (JB):  } &   459.635  \\\\\n",
              "\\textbf{Skew:}          &   0.035 & \\textbf{  Prob(JB):          } & 1.55e-100  \\\\\n",
              "\\textbf{Kurtosis:}      &   5.319 & \\textbf{  Cond. No.          } &  4.64e+08  \\\\\n",
              "\\bottomrule\n",
              "\\end{tabular}\n",
              "%\\caption{OLS Regression Results}\n",
              "\\end{center}\n",
              "\n",
              "Notes: \\newline\n",
              " [1] Standard Errors assume that the covariance matrix of the errors is correctly specified. \\newline\n",
              " [2] The condition number is large, 4.64e+08. This might indicate that there are \\newline\n",
              " strong multicollinearity or other numerical problems."
            ],
            "text/plain": [
              "<class 'statsmodels.iolib.summary.Summary'>\n",
              "\"\"\"\n",
              "                            OLS Regression Results                            \n",
              "==============================================================================\n",
              "Dep. Variable:        Life expectancy   R-squared:                       0.835\n",
              "Model:                            OLS   Adj. R-squared:                  0.833\n",
              "Method:                 Least Squares   F-statistic:                     538.6\n",
              "Date:                Fri, 27 Jun 2025   Prob (F-statistic):               0.00\n",
              "Time:                        03:14:34   Log-Likelihood:                -5668.5\n",
              "No. Observations:                2049   AIC:                         1.138e+04\n",
              "Df Residuals:                    2029   BIC:                         1.149e+04\n",
              "Df Model:                          19                                         \n",
              "Covariance Type:            nonrobust                                         \n",
              "===================================================================================================\n",
              "                                      coef    std err          t      P>|t|      [0.025      0.975]\n",
              "---------------------------------------------------------------------------------------------------\n",
              "const                              54.5308      0.673     80.982      0.000      53.210      55.851\n",
              "Adult Mortality                    -0.0179      0.001    -19.544      0.000      -0.020      -0.016\n",
              "infant deaths                       0.0934      0.010      9.692      0.000       0.074       0.112\n",
              "Alcohol                             0.0283      0.030      0.945      0.345      -0.030       0.087\n",
              "percentage expenditure              0.0001      0.000      1.118      0.264   -8.64e-05       0.000\n",
              "Hepatitis B                        -0.0116      0.004     -2.715      0.007      -0.020      -0.003\n",
              "Measles                         -1.833e-05   8.39e-06     -2.184      0.029   -3.48e-05   -1.87e-06\n",
              "BMI                                 0.0341      0.006      6.040      0.000       0.023       0.045\n",
              "under-five deaths                  -0.0686      0.007     -9.821      0.000      -0.082      -0.055\n",
              "Polio                               0.0271      0.005      5.322      0.000       0.017       0.037\n",
              "Total expenditure                   0.0125      0.039      0.323      0.747      -0.063       0.088\n",
              "Diphtheria                          0.0295      0.005      5.725      0.000       0.019       0.040\n",
              "HIV/AIDS                           -0.5021      0.020    -25.304      0.000      -0.541      -0.463\n",
              "GDP                              3.066e-05   1.52e-05      2.016      0.044    8.32e-07    6.05e-05\n",
              "Population                      -2.492e-09   1.98e-09     -1.257      0.209   -6.38e-09     1.4e-09\n",
              "thinness 1-19 years                -0.0755      0.053     -1.430      0.153      -0.179       0.028\n",
              "thinness 5-9 years                 -0.0183      0.052     -0.352      0.725      -0.121       0.084\n",
              "Income composition of resources     6.8265      0.725      9.413      0.000       5.404       8.249\n",
              "Schooling                           0.7658      0.048     15.922      0.000       0.671       0.860\n",
              "Developed                           1.2014      0.308      3.900      0.000       0.597       1.806\n",
              "==============================================================================\n",
              "Omnibus:                      115.742   Durbin-Watson:                   2.016\n",
              "Prob(Omnibus):                  0.000   Jarque-Bera (JB):              459.635\n",
              "Skew:                           0.035   Prob(JB):                    1.55e-100\n",
              "Kurtosis:                       5.319   Cond. No.                     4.64e+08\n",
              "==============================================================================\n",
              "\n",
              "Notes:\n",
              "[1] Standard Errors assume that the covariance matrix of the errors is correctly specified.\n",
              "[2] The condition number is large, 4.64e+08. This might indicate that there are\n",
              "strong multicollinearity or other numerical problems.\n",
              "\"\"\""
            ]
          },
          "execution_count": 19,
          "metadata": {},
          "output_type": "execute_result"
        }
      ],
      "source": [
        "X_train=sm.add_constant(X_train)\n",
        "model=sm.OLS(y_train,X_train).fit()\n",
        "model.summary()"
      ]
    },
    {
      "cell_type": "code",
      "execution_count": 20,
      "metadata": {
        "colab": {
          "base_uri": "https://localhost:8080/"
        },
        "id": "76TWfCZkcOig",
        "outputId": "e85b04f3-d62e-4be6-bb02-c73f814920f2"
      },
      "outputs": [
        {
          "name": "stdout",
          "output_type": "stream",
          "text": [
            "r2 score: 84.19 %\n",
            "rooted mean square error of testing set: 3.84\n",
            "rooted mean square error of training set: 3.85\n",
            "\n",
            "distribution of life expectancy:\n"
          ]
        },
        {
          "data": {
            "text/plain": [
              "count    2928.000000\n",
              "mean       69.224932\n",
              "std         9.523867\n",
              "min        36.300000\n",
              "25%        63.100000\n",
              "50%        72.100000\n",
              "75%        75.700000\n",
              "max        89.000000\n",
              "Name: Life expectancy, dtype: float64"
            ]
          },
          "execution_count": 20,
          "metadata": {},
          "output_type": "execute_result"
        }
      ],
      "source": [
        "y_pred=model.predict(sm.add_constant(X_test))\n",
        "r2 = r2_score(y_test, y_pred)\n",
        "y_train_pred = model.predict(sm.add_constant(X_train))\n",
        "print('r2 score:', round(r2*100, 2),'%')\n",
        "rmse = np.sqrt(mean_squared_error(y_test, y_pred))\n",
        "print('rooted mean square error of testing set:', round(rmse, 2))\n",
        "rmse_train = np.sqrt(mean_squared_error(y_train, y_train_pred))\n",
        "print('rooted mean square error of training set:', round(rmse_train, 2))\n",
        "print('\\ndistribution of life expectancy:')\n",
        "data['Life expectancy'].describe()"
      ]
    },
    {
      "cell_type": "markdown",
      "metadata": {
        "id": "VgIeGIFbo2wD"
      },
      "source": [
        "We got a good r2 score between testing data and the predicted life expectancy which is quite good.\n",
        "Also, the rmse scores of training set and the testing set are close to each other which indicates that the model has learned the underlying patterns in the data without overfitting to the training set."
      ]
    },
    {
      "cell_type": "code",
      "execution_count": null,
      "metadata": {
        "colab": {
          "base_uri": "https://localhost:8080/",
          "height": 652,
          "referenced_widgets": [
            "eade2fb2302b45b6bfcef5a44021cdbf",
            "369e06b8f5f84705a99067dafb6e6507",
            "3ef27a3aacad4437906eab55ffe7d6e4",
            "5158c3019a284549aa997c162e555661",
            "f1270ee4b6d44824bd7b912d8e5321d8",
            "a7b3c7d57f26474c9ba65521d5658fcf",
            "55a2a3cd3ecf46c5b27f61d6ac512910"
          ]
        },
        "id": "X5N-CuWNSQWS",
        "outputId": "1ddddda6-45cf-4af6-df56-81d29781497a"
      },
      "outputs": [
        {
          "data": {
            "application/vnd.jupyter.widget-view+json": {
              "model_id": "50ed78ce635641cb9f480ae9bfe5e3cd",
              "version_major": 2,
              "version_minor": 0
            },
            "text/plain": [
              "VBox(children=(ToggleButtons(description='Features', options=('Life expectancy', 'Adult Mortality', 'infant de…"
            ]
          },
          "execution_count": 21,
          "metadata": {},
          "output_type": "execute_result"
        }
      ],
      "source": [
        "numeric_columns = [col for col in data.columns if data[col].dtype in ['int64', 'float64']]\n",
        "\n",
        "def create_plot(column):\n",
        "    plt.figure(figsize=(8, 6))\n",
        "    sns.regplot(x=column, y='Life expectancy', data=data, marker='o')\n",
        "    plt.title(f'Regression Plot: Life Expectancy vs {column}')\n",
        "    plt.xlabel(column)\n",
        "    plt.ylabel('Life Expectancy')\n",
        "    plt.grid(True)\n",
        "    plt.show()\n",
        "\n",
        "col_buttons = ToggleButtons(options=numeric_columns, description='Features')\n",
        "\n",
        "interactive_plot = widgets.interactive_output(create_plot, {'column': col_buttons})\n",
        "VBox([col_buttons, interactive_plot])"
      ]
    },
    {
      "cell_type": "markdown",
      "metadata": {
        "id": "CON1zKj1BIQH"
      },
      "source": [
        "Partial F-test\n",
        "To clarify the impact of removing of each attribute separatelly on the full model and the significance of each one"
      ]
    },
    {
      "cell_type": "code",
      "execution_count": 22,
      "metadata": {
        "colab": {
          "base_uri": "https://localhost:8080/"
        },
        "id": "i8DI6vVIO_I2",
        "outputId": "502ef0db-9f0f-4a83-ad4a-0e6e97242963"
      },
      "outputs": [
        {
          "name": "stdout",
          "output_type": "stream",
          "text": [
            "+---------------------------------+---------------+--------------+---------------------+------------------------+\n",
            "| Feature                         |   F-statistic |      p-value |   R2 for Full Model |   R2 for Reduced Model |\n",
            "+=================================+===============+==============+=====================+========================+\n",
            "| Adult Mortality                 |  527.902      | 1.73361e-107 |            0.837542 |               0.80805  |\n",
            "+---------------------------------+---------------+--------------+---------------------+------------------------+\n",
            "| infant deaths                   |  127.245      | 6.48662e-29  |            0.837542 |               0.830433 |\n",
            "+---------------------------------+---------------+--------------+---------------------+------------------------+\n",
            "| Alcohol                         |    0.102756   | 0.748571     |            0.837542 |               0.837536 |\n",
            "+---------------------------------+---------------+--------------+---------------------+------------------------+\n",
            "| percentage expenditure          |    1.10165    | 0.293991     |            0.837542 |               0.83748  |\n",
            "+---------------------------------+---------------+--------------+---------------------+------------------------+\n",
            "| Hepatitis B                     |   15.3514     | 9.13086e-05  |            0.837542 |               0.836684 |\n",
            "+---------------------------------+---------------+--------------+---------------------+------------------------+\n",
            "| Measles                         |    2.90002    | 0.0886852    |            0.837542 |               0.83738  |\n",
            "+---------------------------------+---------------+--------------+---------------------+------------------------+\n",
            "| BMI                             |   56.6969     | 6.74338e-14  |            0.837542 |               0.834375 |\n",
            "+---------------------------------+---------------+--------------+---------------------+------------------------+\n",
            "| under-five deaths               |  132.149      | 6.09564e-30  |            0.837542 |               0.830159 |\n",
            "+---------------------------------+---------------+--------------+---------------------+------------------------+\n",
            "| Polio                           |   38.7858     | 5.41166e-10  |            0.837542 |               0.835375 |\n",
            "+---------------------------------+---------------+--------------+---------------------+------------------------+\n",
            "| Total expenditure               |    1.78633    | 0.181479     |            0.837542 |               0.837442 |\n",
            "+---------------------------------+---------------+--------------+---------------------+------------------------+\n",
            "| Diphtheria                      |   59.5159     | 1.65479e-14  |            0.837542 |               0.834217 |\n",
            "+---------------------------------+---------------+--------------+---------------------+------------------------+\n",
            "| HIV/AIDS                        |  824.862      | 6.52585e-160 |            0.837542 |               0.79146  |\n",
            "+---------------------------------+---------------+--------------+---------------------+------------------------+\n",
            "| GDP                             |    6.09173    | 0.0136387    |            0.837542 |               0.837202 |\n",
            "+---------------------------------+---------------+--------------+---------------------+------------------------+\n",
            "| Population                      |    0.319256   | 0.572098     |            0.837542 |               0.837524 |\n",
            "+---------------------------------+---------------+--------------+---------------------+------------------------+\n",
            "| thinness 1-19 years             |    1.80906    | 0.178726     |            0.837542 |               0.837441 |\n",
            "+---------------------------------+---------------+--------------+---------------------+------------------------+\n",
            "| thinness 5-9 years              |    0.00800171 | 0.928729     |            0.837542 |               0.837542 |\n",
            "+---------------------------------+---------------+--------------+---------------------+------------------------+\n",
            "| Income composition of resources |  140.023      | 1.37957e-31  |            0.837542 |               0.829719 |\n",
            "+---------------------------------+---------------+--------------+---------------------+------------------------+\n",
            "| Schooling                       |  369.339      | 1.38396e-77  |            0.837542 |               0.816909 |\n",
            "+---------------------------------+---------------+--------------+---------------------+------------------------+\n",
            "| Developed                       |   25.2233     | 5.41464e-07  |            0.837542 |               0.836133 |\n",
            "+---------------------------------+---------------+--------------+---------------------+------------------------+\n"
          ]
        }
      ],
      "source": [
        "from tabulate import tabulate\n",
        "\n",
        "# Create an empty list to store the results\n",
        "results = []\n",
        "\n",
        "# Loop over each column in X to create reduced models\n",
        "for col in X.columns:\n",
        "    X_full_new = X.drop(col, axis=1)\n",
        "    full_model = sm.OLS(y, sm.add_constant(X)).fit()\n",
        "    reduced_model = sm.OLS(y, sm.add_constant(X_full_new)).fit()\n",
        "    rss_full = np.sum((y - full_model.predict(sm.add_constant(X))) ** 2)\n",
        "    rss_reduced = np.sum((y - reduced_model.predict(sm.add_constant(X_full_new))) ** 2)\n",
        "    df_full = X.shape[0] - X.shape[1] - 1\n",
        "    df_reduced = X_full_new.shape[0] - X_full_new.shape[1] - 1\n",
        "\n",
        "    # Calculate F-statistic\n",
        "    RSS_Reduction = (rss_reduced - rss_full) / (df_reduced - df_full)\n",
        "    MSE_FullModel = rss_full / df_full\n",
        "    f_statistic = RSS_Reduction / MSE_FullModel\n",
        "\n",
        "    # Calculate p-value\n",
        "    p_value = stats.f.sf(f_statistic, df_reduced - df_full, df_full)\n",
        "\n",
        "    # Make predictions using the full and reduced models\n",
        "    y_pred_full = full_model.predict(sm.add_constant(X))\n",
        "    y_pred_reduced = reduced_model.predict(sm.add_constant(X_full_new))\n",
        "\n",
        "    # Calculate R^2 score for the full and reduced models\n",
        "    r2_full = r2_score(y, y_pred_full)\n",
        "    r2_reduced = r2_score(y, y_pred_reduced)\n",
        "\n",
        "    # Append results to the list\n",
        "    results.append([col, f_statistic, p_value, r2_full, r2_reduced])\n",
        "\n",
        "# Print the results in a table\n",
        "print(tabulate(results, headers=['Feature', 'F-statistic', 'p-value', 'R2 for Full Model', 'R2 for Reduced Model'],\n",
        "               tablefmt='grid'))\n",
        "\n"
      ]
    },
    {
      "cell_type": "markdown",
      "metadata": {
        "id": "-H3y4kMFA_K4"
      },
      "source": [
        "### Attributes with minimal impact on model's performance:\n",
        "based on comparing associated p_value to a significance level (alpha)"
      ]
    },
    {
      "cell_type": "code",
      "execution_count": 23,
      "metadata": {
        "colab": {
          "base_uri": "https://localhost:8080/"
        },
        "id": "JRnfg3Y4A4ja",
        "outputId": "09769afe-e9f2-4fed-cc92-5daced35c7f8"
      },
      "outputs": [
        {
          "name": "stdout",
          "output_type": "stream",
          "text": [
            "Attributes with minimal impact on model's performance: ['Alcohol', 'percentage expenditure', 'Measles', 'Total expenditure', 'Population', 'thinness 1-19 years', 'thinness 5-9 years']\n"
          ]
        }
      ],
      "source": [
        "attributes_to_drop = []\n",
        "alpha = 0.05\n",
        "\n",
        "# Iterate through the results\n",
        "for result in results:\n",
        "    feature = result[0]\n",
        "    p_value = result[2]\n",
        "\n",
        "    # Compare p-value to significance level\n",
        "    if p_value > alpha:\n",
        "        attributes_to_drop.append(feature)\n",
        "\n",
        "print(\"Attributes with minimal impact on model's performance:\", attributes_to_drop)"
      ]
    },
    {
      "cell_type": "markdown",
      "metadata": {},
      "source": [
        "multicoliniarity check"
      ]
    },
    {
      "cell_type": "code",
      "execution_count": 24,
      "metadata": {
        "id": "sNTrS7CvYggZ"
      },
      "outputs": [],
      "source": [
        "def multicollinearity(df,threshold):\n",
        "    corelation_dict = {}\n",
        "    corr_mat = df.corr()\n",
        "    for i in range(len(corr_mat.columns)):\n",
        "        for j in range(i):\n",
        "            if abs(corr_mat.iloc[i,j])> threshold:\n",
        "                col_name= corr_mat.columns[i]\n",
        "                corelation_dict[col_name] = abs(corr_mat.iloc[i,j])\n",
        "                corelation_dict = dict(sorted(corelation_dict.items(), key=lambda item: item[1]))\n",
        "    return list(corelation_dict.keys())"
      ]
    },
    {
      "cell_type": "code",
      "execution_count": 25,
      "metadata": {
        "colab": {
          "base_uri": "https://localhost:8080/"
        },
        "id": "n357RAuYRu-d",
        "outputId": "bce4b32f-6549-4699-c00f-a533dc0dafdf"
      },
      "outputs": [
        {
          "name": "stdout",
          "output_type": "stream",
          "text": [
            "['Schooling', 'GDP', 'thinness 5-9 years', 'under-five deaths']\n"
          ]
        }
      ],
      "source": [
        "cor_cols = multicollinearity(X_train, 0.7)\n",
        "print(cor_cols)"
      ]
    },
    {
      "cell_type": "markdown",
      "metadata": {},
      "source": [
        "calculate MSE values for each feature"
      ]
    },
    {
      "cell_type": "code",
      "execution_count": 26,
      "metadata": {
        "id": "7z1fixtyKueN"
      },
      "outputs": [],
      "source": [
        "def univariate(x_tr, y_tr, x_test, y_test):\n",
        "    mse_values = []\n",
        "    for feature in x_tr.columns:\n",
        "        x_tr_feature = x_tr[[feature]]\n",
        "        x_test_feature = x_test[[feature]]\n",
        "        model = LinearRegression()\n",
        "        model.fit( x_tr_feature, y_tr)\n",
        "        y_pred = model.predict(x_test_feature)\n",
        "        mse_values.append(mean_squared_error(y_test, y_pred))\n",
        "\n",
        "    return mse_values"
      ]
    },
    {
      "cell_type": "code",
      "execution_count": 27,
      "metadata": {
        "colab": {
          "base_uri": "https://localhost:8080/",
          "height": 1000
        },
        "id": "8gEs6cBaQWPT",
        "outputId": "f9e15fea-8472-4f27-8cdc-6c2d974f8334"
      },
      "outputs": [
        {
          "name": "stdout",
          "output_type": "stream",
          "text": [
            "['Population', 'Measles', 'infant deaths', 'Hepatitis B', 'under-five deaths', 'Total expenditure', 'percentage expenditure', 'Alcohol', 'GDP', 'thinness 5-9 years', 'thinness 1-19 years', 'Polio', 'Developed', 'Diphtheria', 'HIV/AIDS', 'BMI', 'Adult Mortality', 'Income composition of resources', 'Schooling']\n",
            "Population                         93.506504\n",
            "Measles                            92.229687\n",
            "infant deaths                      91.396993\n",
            "Hepatitis B                        91.054321\n",
            "under-five deaths                  90.436776\n",
            "Total expenditure                  88.418731\n",
            "percentage expenditure             80.156600\n",
            "Alcohol                            80.149870\n",
            "GDP                                75.599656\n",
            "thinness 5-9 years                 74.605135\n",
            "thinness 1-19 years                74.299562\n",
            "Polio                              73.448327\n",
            "Developed                          72.230682\n",
            "Diphtheria                         71.838957\n",
            "HIV/AIDS                           65.134835\n",
            "BMI                                63.209575\n",
            "Adult Mortality                    47.224394\n",
            "Income composition of resources    40.066980\n",
            "Schooling                          37.623186\n",
            "dtype: float64\n"
          ]
        },
        {
          "data": {
            "image/png": "[encoded data removed]",
            "text/plain": [
              "<Figure size 1000x600 with 1 Axes>"
            ]
          },
          "metadata": {},
          "output_type": "display_data"
        }
      ],
      "source": [
        "x = data.loc[:, data.columns != 'Life expectancy']\n",
        "y = data.loc[:,'Life expectancy']\n",
        "X_train, X_test , y_train, y_test = train_test_split(x,y, test_size=0.3,random_state=42)\n",
        "mse_values = univariate(X_train, y_train, X_test ,y_test)\n",
        "mse_values = pd.Series(mse_values)\n",
        "mse_values.index = X_train.columns\n",
        "mse_values= mse_values.sort_values(ascending = False)\n",
        "highest_mse_features = mse_values.index.tolist()\n",
        "print(highest_mse_features)\n",
        "print(mse_values)\n",
        "plt.figure(figsize=(10, 6))\n",
        "sns.barplot(x = mse_values.index,y = mse_values.values, hue = mse_values.index ,legend=False,palette = \"husl\")\n",
        "plt.xticks(rotation=90)\n",
        "plt.show()"
      ]
    },
    {
      "cell_type": "markdown",
      "metadata": {},
      "source": [
        "#### Trying to find an improved model depending on p-value of each feature selection type and R2 adjusted score"
      ]
    },
    {
      "cell_type": "markdown",
      "metadata": {
        "id": "xyCIIvhS3H8E"
      },
      "source": [
        "ANOVA Test"
      ]
    },
    {
      "cell_type": "code",
      "execution_count": 28,
      "metadata": {
        "id": "cpEa-tQurvsX"
      },
      "outputs": [],
      "source": [
        "def ANOVA_test(model, attributes_to_drop, data):\n",
        "    dropped_columns = attributes_to_drop + ['Life expectancy']\n",
        "    X = data.drop(dropped_columns, axis=1)\n",
        "    y = data['Life expectancy']\n",
        "    X_train, X_test, y_train, y_test=train_test_split(X,y,test_size=0.3,random_state=42)\n",
        "    X_train = sm.add_constant(X_train)\n",
        "    reduced_model = sm.OLS(y_train, X_train).fit()\n",
        "    anova_results = anova_lm(reduced_model, model)\n",
        "    return anova_results , reduced_model.summary() \n"
      ]
    },
    {
      "cell_type": "markdown",
      "metadata": {
        "id": "gHkopLd029Rx"
      },
      "source": [
        "If the p-value (PR(>F)) is small (commonly less than 0.05), this suggests that the full model provides a significantly better fit to the data than the reduced model, justifying the inclusion of additional predictors."
      ]
    },
    {
      "cell_type": "code",
      "execution_count": 29,
      "metadata": {
        "colab": {
          "base_uri": "https://localhost:8080/"
        },
        "id": "o-j-eDkZrwrB",
        "outputId": "020082c5-09aa-48ec-f9a1-b3138448c48b"
      },
      "outputs": [
        {
          "name": "stdout",
          "output_type": "stream",
          "text": [
            "ANOVA Test:\n",
            "   df_resid          ssr  df_diff     ss_diff         F   Pr(>F)\n",
            "0    2036.0  30675.91698      0.0         NaN       NaN      NaN\n",
            "1    2029.0  30337.46294      7.0  338.454041  3.233735  0.00205\n",
            "\n",
            "Reduced Model Summary:\n",
            "                            OLS Regression Results                            \n",
            "==============================================================================\n",
            "Dep. Variable:        Life expectancy   R-squared:                       0.833\n",
            "Model:                            OLS   Adj. R-squared:                  0.832\n",
            "Method:                 Least Squares   F-statistic:                     844.3\n",
            "Date:                Fri, 27 Jun 2025   Prob (F-statistic):               0.00\n",
            "Time:                        03:16:35   Log-Likelihood:                -5679.8\n",
            "No. Observations:                2049   AIC:                         1.139e+04\n",
            "Df Residuals:                    2036   BIC:                         1.146e+04\n",
            "Df Model:                          12                                         \n",
            "Covariance Type:            nonrobust                                         \n",
            "===================================================================================================\n",
            "                                      coef    std err          t      P>|t|      [0.025      0.975]\n",
            "---------------------------------------------------------------------------------------------------\n",
            "const                              53.6101      0.593     90.437      0.000      52.448      54.773\n",
            "Adult Mortality                    -0.0178      0.001    -19.471      0.000      -0.020      -0.016\n",
            "infant deaths                       0.0870      0.009      9.379      0.000       0.069       0.105\n",
            "Hepatitis B                        -0.0122      0.004     -2.870      0.004      -0.021      -0.004\n",
            "BMI                                 0.0415      0.005      7.909      0.000       0.031       0.052\n",
            "under-five deaths                  -0.0659      0.007     -9.711      0.000      -0.079      -0.053\n",
            "Polio                               0.0267      0.005      5.237      0.000       0.017       0.037\n",
            "Diphtheria                          0.0301      0.005      5.843      0.000       0.020       0.040\n",
            "HIV/AIDS                           -0.5050      0.020    -25.557      0.000      -0.544      -0.466\n",
            "GDP                               4.47e-05   7.47e-06      5.986      0.000    3.01e-05    5.93e-05\n",
            "Income composition of resources     6.9194      0.723      9.572      0.000       5.502       8.337\n",
            "Schooling                           0.7897      0.047     16.813      0.000       0.698       0.882\n",
            "Developed                           1.5570      0.276      5.651      0.000       1.017       2.097\n",
            "==============================================================================\n",
            "Omnibus:                      123.390   Durbin-Watson:                   2.018\n",
            "Prob(Omnibus):                  0.000   Jarque-Bera (JB):              492.048\n",
            "Skew:                           0.113   Prob(JB):                    1.42e-107\n",
            "Kurtosis:                       5.390   Cond. No.                     1.29e+05\n",
            "==============================================================================\n",
            "\n",
            "Notes:\n",
            "[1] Standard Errors assume that the covariance matrix of the errors is correctly specified.\n",
            "[2] The condition number is large, 1.29e+05. This might indicate that there are\n",
            "strong multicollinearity or other numerical problems.\n"
          ]
        }
      ],
      "source": [
        "#Partial f test drop\n",
        "anova_table, reduced_summary = ANOVA_test(model, attributes_to_drop, data)\n",
        "\n",
        "print(\"ANOVA Test:\")\n",
        "print(anova_table)\n",
        "\n",
        "print(\"\\nReduced Model Summary:\")\n",
        "print(reduced_summary)"
      ]
    },
    {
      "cell_type": "markdown",
      "metadata": {},
      "source": [
        "The p-value is less than 0.05, indicating that the improvements in the full model are statistically significant.\n",
        "There is no change in R2 adjusted score."
      ]
    },
    {
      "cell_type": "code",
      "execution_count": 30,
      "metadata": {
        "colab": {
          "base_uri": "https://localhost:8080/"
        },
        "id": "plWnytHkrxmU",
        "outputId": "aa87bb04-3f93-41f5-ae9c-65675097ac0f"
      },
      "outputs": [
        {
          "name": "stdout",
          "output_type": "stream",
          "text": [
            "ANOVA Test:\n",
            "   df_resid           ssr  df_diff      ss_diff          F        Pr(>F)\n",
            "0    2031.0  31815.801549      0.0          NaN        NaN           NaN\n",
            "1    2029.0  30337.462940      2.0  1478.338609  49.436386  1.088347e-21\n",
            "\n",
            "Reduced Model Summary:\n",
            "                            OLS Regression Results                            \n",
            "==============================================================================\n",
            "Dep. Variable:        Life expectancy   R-squared:                       0.826\n",
            "Model:                            OLS   Adj. R-squared:                  0.825\n",
            "Method:                 Least Squares   F-statistic:                     569.0\n",
            "Date:                Fri, 27 Jun 2025   Prob (F-statistic):               0.00\n",
            "Time:                        03:17:10   Log-Likelihood:                -5717.2\n",
            "No. Observations:                2049   AIC:                         1.147e+04\n",
            "Df Residuals:                    2031   BIC:                         1.157e+04\n",
            "Df Model:                          17                                         \n",
            "Covariance Type:            nonrobust                                         \n",
            "===================================================================================================\n",
            "                                      coef    std err          t      P>|t|      [0.025      0.975]\n",
            "---------------------------------------------------------------------------------------------------\n",
            "const                              53.4058      0.679     78.628      0.000      52.074      54.738\n",
            "Adult Mortality                    -0.0182      0.001    -19.392      0.000      -0.020      -0.016\n",
            "infant deaths                      -0.0007      0.001     -0.656      0.512      -0.003       0.001\n",
            "Alcohol                            -0.0196      0.030     -0.650      0.516      -0.079       0.039\n",
            "percentage expenditure              0.0003   5.14e-05      5.418      0.000       0.000       0.000\n",
            "Hepatitis B                        -0.0147      0.004     -3.391      0.001      -0.023      -0.006\n",
            "Measles                         -2.405e-05   8.57e-06     -2.806      0.005   -4.08e-05   -7.24e-06\n",
            "BMI                                 0.0347      0.006      6.032      0.000       0.023       0.046\n",
            "Polio                               0.0308      0.005      5.932      0.000       0.021       0.041\n",
            "Total expenditure                   0.0076      0.039      0.194      0.846      -0.069       0.084\n",
            "Diphtheria                          0.0358      0.005      6.851      0.000       0.026       0.046\n",
            "HIV/AIDS                           -0.5134      0.020    -25.325      0.000      -0.553      -0.474\n",
            "Population                       8.585e-10      2e-09      0.430      0.667   -3.06e-09    4.78e-09\n",
            "thinness 1-19 years                -0.0986      0.054     -1.827      0.068      -0.204       0.007\n",
            "thinness 5-9 years                  0.0141      0.053      0.264      0.791      -0.090       0.119\n",
            "Income composition of resources     7.6111      0.735     10.356      0.000       6.170       9.053\n",
            "Schooling                           0.7930      0.049     16.145      0.000       0.697       0.889\n",
            "Developed                           1.2013      0.315      3.814      0.000       0.584       1.819\n",
            "==============================================================================\n",
            "Omnibus:                      116.988   Durbin-Watson:                   2.009\n",
            "Prob(Omnibus):                  0.000   Jarque-Bera (JB):              464.523\n",
            "Skew:                           0.057   Prob(JB):                    1.35e-101\n",
            "Kurtosis:                       5.330   Cond. No.                     4.56e+08\n",
            "==============================================================================\n",
            "\n",
            "Notes:\n",
            "[1] Standard Errors assume that the covariance matrix of the errors is correctly specified.\n",
            "[2] The condition number is large, 4.56e+08. This might indicate that there are\n",
            "strong multicollinearity or other numerical problems.\n"
          ]
        }
      ],
      "source": [
        "#multicullinarity drop\n",
        "cor_cols = ['GDP', 'under-five deaths']\n",
        "anova_table, reduced_summary = ANOVA_test(model, cor_cols, data)\n",
        "\n",
        "print(\"ANOVA Test:\")\n",
        "print(anova_table)\n",
        "\n",
        "print(\"\\nReduced Model Summary:\")\n",
        "print(reduced_summary)"
      ]
    },
    {
      "cell_type": "markdown",
      "metadata": {},
      "source": [
        "The p-value is extremely small, This strongly supports the inclusion of the additional predictors in the full model. \n",
        "The R2 reduced from 83.4% to 82.8%"
      ]
    },
    {
      "cell_type": "code",
      "execution_count": 31,
      "metadata": {
        "colab": {
          "base_uri": "https://localhost:8080/"
        },
        "id": "w5g7FuZ_rx3G",
        "outputId": "0b9e8f34-59c2-421d-8629-2a9e49fbba64"
      },
      "outputs": [
        {
          "name": "stdout",
          "output_type": "stream",
          "text": [
            "ANOVA Test:\n",
            "   df_resid           ssr  df_diff      ss_diff          F        Pr(>F)\n",
            "0    2035.0  32155.409276      0.0          NaN        NaN           NaN\n",
            "1    2029.0  30337.462940      6.0  1817.946336  20.264346  3.894171e-23\n",
            "\n",
            "Reduced Model Summary:\n",
            "                            OLS Regression Results                            \n",
            "==============================================================================\n",
            "Dep. Variable:        Life expectancy   R-squared:                       0.825\n",
            "Model:                            OLS   Adj. R-squared:                  0.823\n",
            "Method:                 Least Squares   F-statistic:                     736.0\n",
            "Date:                Fri, 27 Jun 2025   Prob (F-statistic):               0.00\n",
            "Time:                        03:17:19   Log-Likelihood:                -5728.1\n",
            "No. Observations:                2049   AIC:                         1.148e+04\n",
            "Df Residuals:                    2035   BIC:                         1.156e+04\n",
            "Df Model:                          13                                         \n",
            "Covariance Type:            nonrobust                                         \n",
            "===================================================================================================\n",
            "                                      coef    std err          t      P>|t|      [0.025      0.975]\n",
            "---------------------------------------------------------------------------------------------------\n",
            "const                              52.5339      0.610     86.159      0.000      51.338      53.730\n",
            "Adult Mortality                    -0.0180      0.001    -19.089      0.000      -0.020      -0.016\n",
            "Alcohol                            -0.0222      0.030     -0.734      0.463      -0.081       0.037\n",
            "percentage expenditure              0.0002      0.000      1.590      0.112   -3.87e-05       0.000\n",
            "BMI                                 0.0354      0.006      6.151      0.000       0.024       0.047\n",
            "Polio                               0.0290      0.005      5.617      0.000       0.019       0.039\n",
            "Diphtheria                          0.0315      0.005      6.325      0.000       0.022       0.041\n",
            "HIV/AIDS                           -0.5114      0.020    -25.245      0.000      -0.551      -0.472\n",
            "GDP                              1.972e-05   1.54e-05      1.280      0.201   -1.05e-05    4.99e-05\n",
            "thinness 1-19 years                -0.1099      0.054     -2.036      0.042      -0.216      -0.004\n",
            "thinness 5-9 years                  0.0068      0.053      0.128      0.898      -0.097       0.110\n",
            "Income composition of resources     7.6766      0.738     10.404      0.000       6.229       9.124\n",
            "Schooling                           0.7995      0.049     16.244      0.000       0.703       0.896\n",
            "Developed                           1.1384      0.313      3.637      0.000       0.525       1.752\n",
            "==============================================================================\n",
            "Omnibus:                      116.948   Durbin-Watson:                   2.009\n",
            "Prob(Omnibus):                  0.000   Jarque-Bera (JB):              466.989\n",
            "Skew:                           0.045   Prob(JB):                    3.93e-102\n",
            "Kurtosis:                       5.337   Cond. No.                     1.29e+05\n",
            "==============================================================================\n",
            "\n",
            "Notes:\n",
            "[1] Standard Errors assume that the covariance matrix of the errors is correctly specified.\n",
            "[2] The condition number is large, 1.29e+05. This might indicate that there are\n",
            "strong multicollinearity or other numerical problems.\n"
          ]
        }
      ],
      "source": [
        "#mse drop\n",
        "dropped=highest_mse_features[0:6]\n",
        "anova_table, reduced_summary = ANOVA_test(model, dropped , data)\n",
        "\n",
        "print(\"ANOVA Test:\")\n",
        "print(anova_table)\n",
        "\n",
        "print(\"\\nReduced Model Summary:\")\n",
        "print(reduced_summary)"
      ]
    },
    {
      "cell_type": "markdown",
      "metadata": {},
      "source": [
        "The p-value is extremely small too. The R2 adjusted has reduced to 82.6%\n",
        "So we indicate that the full model has the best results"
      ]
    },
    {
      "cell_type": "code",
      "execution_count": null,
      "metadata": {
        "colab": {
          "base_uri": "https://localhost:8080/",
          "height": 630,
          "referenced_widgets": [
            "4c460ed977ef4eb29dd53cbf18c09b41",
            "8e4fc329b3d94c39b8be51e0b2d678c1",
            "447bff6afa2d4bed89b1840a1df98bc2",
            "9ebd806ad94e4dae991798e220e35fb1",
            "7be470dd8459417f81fb02c3e75f04a1",
            "132f8522d2d9403db3a0758011f48c1e",
            "3d5fa308c1194640b7359e7609960f1c",
            "1794f9335cb84dd39c0da188636112de",
            "83a987e201d8417ca74094466a280027",
            "c7ed23cd3e4c42df813392bbc9ead94f",
            "a070acde1a494f3fb8005abd714bd0e9",
            "748ac4a63bb64300935c730f7b461a5c",
            "03de8985699b429a9dad3640d82281b7",
            "f330c360b40b4c5ead11d0b5dcc635d8",
            "506e0fbf925c44cc8bd2986470efc42f",
            "b9a5d2d31b2641b9947f85037b8c1671",
            "eea071ed4eb04a91a559da98cc31d891",
            "29fa27473c29416ea156f747a5e7e8a7",
            "e3596a758a8e4516a620b2a642a81a2e",
            "a6d8808384314905b9e3d66656609528",
            "d3e3731c75594cc092b533b5100b6c8f",
            "1f0d57d551da42d59f67ff27a697adc1",
            "10baa3c6cde1460fac2260202fe18699",
            "b30d1f7dd1dd45bf9843ba58e12c99d4",
            "23e6315a719a453eb095d85b2f98a644",
            "0b29bfed166c48b7b561b3d56da599fd",
            "b861e0b43a2b49f8a968ba8ee9607ef9",
            "b46d2ec59a954acea18b20a58a0196e8",
            "dbe92cf2bd3d4a9786d60bc8d2ca82b4",
            "44c8fa05d29647d994e78be329f016e4",
            "7cc5fc72116e4a418a4c3390aebcddec",
            "aaa7b82fd3514548b7d9bf2141c77232",
            "41259616c8b043498a3180a8878e455b",
            "7801c7c901854cd0b1ccb21b422cb9e9",
            "8da92f4556f94ec2bcb8ac5f0f740ba8",
            "88d74f02ecbb46fe83c0e589f5ff823b",
            "49f9012e65fc4c1db808808f6c68c2ec",
            "734c8160103a4ea2b82859d91cec1201",
            "7cb02c4179294ad680719f91306ecfea",
            "49fa04d9f95c4cfdb6340bb98683564b",
            "3d4f037d2f5d4190a13a0f00622c6529",
            "80b57f923bba4ad6a9d93d26983a1468",
            "1de40cda69c84a8ea12db8c2d0801bc9",
            "7fce29cd6c054703b06ff6f62018e5a4",
            "d93cc6e8f05c4b6aa995fab3f07a68d5",
            "d804e0103c7c4b11bf7904effd5b9d69",
            "6d689c70411c4e2cb5bb6b94eb157f53",
            "d3c3391e13a7486e8873e7df5a50cf9a",
            "9acf12879c304f33a39425c2df3c6239",
            "cc6c22c508e64ebd98854467201e11ba",
            "cc267187e6fe453b9a130c356bc4a121",
            "eb0eeaf89daf4ee38f71f94e1d74d870",
            "8dde3ffb92e34533ab095d9cb78182c9",
            "e536afb765b34046a24f4b4d0c2e661e",
            "880c56f1277f46f5b4b16c34ba245e6d",
            "baf9c609b7ef47af8e24db0be5723407",
            "092c7ce4840e46f1b8774af6a487103d",
            "2a9a4014525f449587bbda904bbf0eed",
            "d4a21939a18341f69409c0ce20170450",
            "5a3bcfbab5c44852ae255036dbd35ced",
            "111c1aa163294d1a8954f2e124bb6fd3",
            "9e3d1c0bd13547a8bf03070eee6d298c"
          ]
        },
        "id": "fEVrRW-2Q276",
        "outputId": "043ff1ef-8f8f-4453-cdd6-f97510efa5a9"
      },
      "outputs": [
        {
          "data": {
            "application/vnd.jupyter.widget-view+json": {
              "model_id": "aeaf7ea507a94d95a5229d3d7f7d7207",
              "version_major": 2,
              "version_minor": 0
            },
            "text/plain": [
              "FloatText(value=144.0, description='adult mortality:', step=1.0, style=DescriptionStyle(description_width='ini…"
            ]
          },
          "metadata": {},
          "output_type": "display_data"
        },
        {
          "data": {
            "application/vnd.jupyter.widget-view+json": {
              "model_id": "b2af4f1e7f024a819bfe2db697d7415d",
              "version_major": 2,
              "version_minor": 0
            },
            "text/plain": [
              "FloatText(value=12.3, description='schooling:', step=1.0, style=DescriptionStyle(description_width='initial'))"
            ]
          },
          "metadata": {},
          "output_type": "display_data"
        },
        {
          "data": {
            "application/vnd.jupyter.widget-view+json": {
              "model_id": "419b4964949e4f3ba748884a1208df4f",
              "version_major": 2,
              "version_minor": 0
            },
            "text/plain": [
              "IntText(value=3, description='infant deaths:', style=DescriptionStyle(description_width='initial'))"
            ]
          },
          "metadata": {},
          "output_type": "display_data"
        },
        {
          "data": {
            "application/vnd.jupyter.widget-view+json": {
              "model_id": "6af45926e7c0438aa681ebb57659b441",
              "version_major": 2,
              "version_minor": 0
            },
            "text/plain": [
              "FloatText(value=3.77, description='Alcohol:', step=1.0, style=DescriptionStyle(description_width='initial'))"
            ]
          },
          "metadata": {},
          "output_type": "display_data"
        },
        {
          "data": {
            "application/vnd.jupyter.widget-view+json": {
              "model_id": "e7c36e6dd71e421cbb2e8b24fc295430",
              "version_major": 2,
              "version_minor": 0
            },
            "text/plain": [
              "FloatText(value=65.61145482, description='percentage expenditure:', step=1.0, style=DescriptionStyle(descripti…"
            ]
          },
          "metadata": {},
          "output_type": "display_data"
        },
        {
          "data": {
            "application/vnd.jupyter.widget-view+json": {
              "model_id": "bc1aa032bc2c4c57a3f1c43876230d3b",
              "version_major": 2,
              "version_minor": 0
            },
            "text/plain": [
              "FloatText(value=92.0, description='Hepatitis B:', step=1.0, style=DescriptionStyle(description_width='initial'…"
            ]
          },
          "metadata": {},
          "output_type": "display_data"
        },
        {
          "data": {
            "application/vnd.jupyter.widget-view+json": {
              "model_id": "8c88f9e39cd4412e8fd8fc8a692627a8",
              "version_major": 2,
              "version_minor": 0
            },
            "text/plain": [
              "FloatText(value=17.0, description='Measles:', step=1.0, style=DescriptionStyle(description_width='initial'))"
            ]
          },
          "metadata": {},
          "output_type": "display_data"
        },
        {
          "data": {
            "application/vnd.jupyter.widget-view+json": {
              "model_id": "da954266c770447096ff6548861940e6",
              "version_major": 2,
              "version_minor": 0
            },
            "text/plain": [
              "FloatText(value=43.349999999999994, description='BMI:', step=1.0, style=DescriptionStyle(description_width='in…"
            ]
          },
          "metadata": {},
          "output_type": "display_data"
        },
        {
          "data": {
            "application/vnd.jupyter.widget-view+json": {
              "model_id": "cfa2a5c980e24a919a82c392df348c81",
              "version_major": 2,
              "version_minor": 0
            },
            "text/plain": [
              "IntText(value=4, description='under-five deaths:', style=DescriptionStyle(description_width='initial'))"
            ]
          },
          "metadata": {},
          "output_type": "display_data"
        },
        {
          "data": {
            "application/vnd.jupyter.widget-view+json": {
              "model_id": "cdc0904e037f4ce6aebbbe4c0a0b424c",
              "version_major": 2,
              "version_minor": 0
            },
            "text/plain": [
              "FloatText(value=93.0, description='Polio:', step=1.0, style=DescriptionStyle(description_width='initial'))"
            ]
          },
          "metadata": {},
          "output_type": "display_data"
        },
        {
          "data": {
            "application/vnd.jupyter.widget-view+json": {
              "model_id": "3a50b9211ed844898b3f3514971026ee",
              "version_major": 2,
              "version_minor": 0
            },
            "text/plain": [
              "FloatText(value=5.75, description='Total expenditure:', step=1.0, style=DescriptionStyle(description_width='in…"
            ]
          },
          "metadata": {},
          "output_type": "display_data"
        },
        {
          "data": {
            "application/vnd.jupyter.widget-view+json": {
              "model_id": "921ca82bcd954247b903135851c03aef",
              "version_major": 2,
              "version_minor": 0
            },
            "text/plain": [
              "FloatText(value=93.0, description='Diphtheria:', step=1.0, style=DescriptionStyle(description_width='initial')…"
            ]
          },
          "metadata": {},
          "output_type": "display_data"
        },
        {
          "data": {
            "application/vnd.jupyter.widget-view+json": {
              "model_id": "e3bef69a0a96472eb9d2e5e862a505ca",
              "version_major": 2,
              "version_minor": 0
            },
            "text/plain": [
              "FloatText(value=0.1, description='HIV/AIDS:', step=1.0, style=DescriptionStyle(description_width='initial'))"
            ]
          },
          "metadata": {},
          "output_type": "display_data"
        },
        {
          "data": {
            "application/vnd.jupyter.widget-view+json": {
              "model_id": "439a74991299490584d8a1a98d3244f5",
              "version_major": 2,
              "version_minor": 0
            },
            "text/plain": [
              "FloatText(value=2244.566221883393, description='GDP:', step=1.0, style=DescriptionStyle(description_width='ini…"
            ]
          },
          "metadata": {},
          "output_type": "display_data"
        },
        {
          "data": {
            "application/vnd.jupyter.widget-view+json": {
              "model_id": "97708ae7a8af462fbec77fb7650430bd",
              "version_major": 2,
              "version_minor": 0
            },
            "text/plain": [
              "FloatText(value=1391756.5, description='Population:', step=1.0, style=DescriptionStyle(description_width='init…"
            ]
          },
          "metadata": {},
          "output_type": "display_data"
        },
        {
          "data": {
            "application/vnd.jupyter.widget-view+json": {
              "model_id": "731da366c55f43b0a8398b74a209c6fa",
              "version_major": 2,
              "version_minor": 0
            },
            "text/plain": [
              "FloatText(value=3.3, description='thinness 1-19 years:', step=1.0, style=DescriptionStyle(description_width='i…"
            ]
          },
          "metadata": {},
          "output_type": "display_data"
        },
        {
          "data": {
            "application/vnd.jupyter.widget-view+json": {
              "model_id": "dd5e026d24e5429aa9008b684c3a09c5",
              "version_major": 2,
              "version_minor": 0
            },
            "text/plain": [
              "FloatText(value=3.4, description='thinness 5-9 years:', step=1.0, style=DescriptionStyle(description_width='in…"
            ]
          },
          "metadata": {},
          "output_type": "display_data"
        },
        {
          "data": {
            "application/vnd.jupyter.widget-view+json": {
              "model_id": "d5abcda0ffcb435795f9c9d7f512e439",
              "version_major": 2,
              "version_minor": 0
            },
            "text/plain": [
              "FloatText(value=0.675, description='Income composition of resources:', step=1.0, style=DescriptionStyle(descri…"
            ]
          },
          "metadata": {},
          "output_type": "display_data"
        },
        {
          "data": {
            "application/vnd.jupyter.widget-view+json": {
              "model_id": "6e1dc4bc505f43a5acc1b393a610c55d",
              "version_major": 2,
              "version_minor": 0
            },
            "text/plain": [
              "IntSlider(value=0, description='Developed:', max=1, style=SliderStyle(description_width='initial'))"
            ]
          },
          "metadata": {},
          "output_type": "display_data"
        },
        {
          "data": {
            "application/vnd.jupyter.widget-view+json": {
              "model_id": "b5ff46864350476b995699eb1b824b59",
              "version_major": 2,
              "version_minor": 0
            },
            "text/plain": [
              "Button(description='Submit', style=ButtonStyle())"
            ]
          },
          "metadata": {},
          "output_type": "display_data"
        },
        {
          "data": {
            "application/vnd.jupyter.widget-view+json": {
              "model_id": "36dfa2729e5c47f092cb19a6d7ac5d55",
              "version_major": 2,
              "version_minor": 0
            },
            "text/plain": [
              "Output()"
            ]
          },
          "metadata": {},
          "output_type": "display_data"
        }
      ],
      "source": [
        "import ipywidgets as widgets\n",
        "from IPython.display import display\n",
        "\n",
        "def percentage_from_median(value, data):\n",
        "\n",
        "    sorted_data = sorted(data)\n",
        "    data_length = len(sorted_data)\n",
        "\n",
        "    # Calculate the median\n",
        "    median_index = data_length // 2\n",
        "    median = sorted_data[median_index] if data_length % 2 != 0 else (sorted_data[median_index - 1] + sorted_data[median_index]) / 2\n",
        "\n",
        "    # Calculate the range of the dataset\n",
        "    data_range = max(data) - min(data)\n",
        "\n",
        "    # Calculate the absolute difference between the value and the median\n",
        "    absolute_difference = value - median\n",
        "\n",
        "    # Calculate the percentage\n",
        "    percentage = (absolute_difference / data_range) * 100\n",
        "\n",
        "    return percentage\n",
        "\n",
        "def predict(Adult_Mortality, schooling, infant_deaths, Alcohol, percentage_expenditure,Hepatitis_B, Measles, BMI, under_five_deaths, Polio, Total_expenditure, Diphtheria, HIV_AIDS, GDP, Population, thinness_1_19_years, thinness_5_9_years, Income_composition_of_resources, Developed):\n",
        "  X_new_single = pd.DataFrame({\n",
        "    'const': [1],\n",
        "    'Adult Mortality': [Adult_Mortality],\n",
        "    'infant deaths': [infant_deaths],\n",
        "    'Alcohol': [Alcohol],\n",
        "    'percentage expenditure': [percentage_expenditure],\n",
        "    'Hepatitis B': [Hepatitis_B],\n",
        "    'Measles': [Measles],\n",
        "    'BMI': [BMI],\n",
        "    'under-five deaths': [under_five_deaths],\n",
        "    'Polio': [Polio],\n",
        "    'Total expenditure': [Total_expenditure],\n",
        "    'Diphtheria': [Diphtheria],\n",
        "    'HIV/AIDS': [HIV_AIDS],\n",
        "    'GDP': [GDP],\n",
        "    'Population': [Population],\n",
        "    'thinness 1-19 years': [thinness_1_19_years],\n",
        "    'thinness 5-9 years': [thinness_5_9_years],\n",
        "    'Income composition of resources': [Income_composition_of_resources],\n",
        "    'Schooling': [schooling],\n",
        "    'Developed': [Developed]\n",
        "  })\n",
        "  positive_coefs = {}\n",
        "  negative_coefs = {}\n",
        "  suggestions = []\n",
        "  for column in X_new_single.drop('const', axis='columns').columns:\n",
        "    how_far = percentage_from_median(X_new_single[column].iloc[0], data[column])\n",
        "    coef = full_model.params[column]\n",
        "    if coef < 0 and how_far > 0:\n",
        "      negative_coefs[column] = how_far\n",
        "    elif coef > 0 and how_far < 0:\n",
        "      positive_coefs[column] = how_far\n",
        "\n",
        "  positive_coefs = dict(sorted(positive_coefs.items(), key=lambda item: item[1]))\n",
        "  negative_coefs = dict(sorted(negative_coefs.items(), key=lambda item: item[1], reverse=True))\n",
        "  first_six_keys = list(negative_coefs.keys())[:3] + list(positive_coefs.keys())[:3]\n",
        "  for index, column in enumerate(first_six_keys):\n",
        "    coef = full_model.params[column]\n",
        "    if coef < 0:\n",
        "      first_six_keys[index] = 'countries with less value of ' + column + ' tend to have higher life expectancy'\n",
        "    else:\n",
        "      first_six_keys[index] = 'countries with higher value of ' + column + ' tend to have higher life expectancy'\n",
        "  print(first_six_keys)\n",
        "  return 'predicted life expectancy: ' + str(round(model.predict(X_new_single)[0], 2))\n",
        "# Define input widgets\n",
        "def init_ui():\n",
        "  Adult_Mortality_input = widgets.FloatText(\n",
        "      value= data['Adult Mortality'].median(),\n",
        "      step=1,\n",
        "      description='adult mortality:',\n",
        "      style={'description_width': 'initial'}\n",
        "  )\n",
        "\n",
        "  infant_deaths_input = widgets.IntText(\n",
        "      value= data['infant deaths'].median(),\n",
        "      step=1,\n",
        "      description='infant deaths:',\n",
        "      style={'description_width': 'initial'}\n",
        "  )\n",
        "\n",
        "  Alcohol_input = widgets.FloatText(\n",
        "      value= data['Alcohol'].median(),\n",
        "      step=1,\n",
        "      description='Alcohol:',\n",
        "      style={'description_width': 'initial'}\n",
        "  )\n",
        "\n",
        "  percentage_expenditure_input = widgets.FloatText(\n",
        "      value= data['percentage expenditure'].median(),\n",
        "      step=1,\n",
        "      description='percentage expenditure:',\n",
        "      style={'description_width': 'initial'}\n",
        "  )\n",
        "\n",
        "  Hepatitis_B_input = widgets.FloatText(\n",
        "      value= data['Hepatitis B'].median(),\n",
        "      step=1,\n",
        "      description='Hepatitis B:',\n",
        "      style={'description_width': 'initial'}\n",
        "  )\n",
        "\n",
        "  Measles_input = widgets.FloatText(\n",
        "      value= data['Measles'].median(),\n",
        "      step=1,\n",
        "      description='Measles:',\n",
        "      style={'description_width': 'initial'}\n",
        "  )\n",
        "\n",
        "  BMI_input = widgets.FloatText(\n",
        "      value= data['BMI'].median(),\n",
        "      step=1,\n",
        "      description='BMI:',\n",
        "      style={'description_width': 'initial'}\n",
        "  )\n",
        "\n",
        "  under_five_deaths_input = widgets.IntText(\n",
        "      value= data['under-five deaths'].median(),\n",
        "      step=1,\n",
        "      description='under-five deaths:',\n",
        "      style={'description_width': 'initial'}\n",
        "  )\n",
        "\n",
        "  Polio_input = widgets.FloatText(\n",
        "      value= data['Polio'].median(),\n",
        "      step=1,\n",
        "      description='Polio:',\n",
        "      style={'description_width': 'initial'}\n",
        "  )\n",
        "\n",
        "  Total_expenditure_input = widgets.FloatText(\n",
        "      value= data['Total expenditure'].median(),\n",
        "      step=1,\n",
        "      description='Total expenditure:',\n",
        "      style={'description_width': 'initial'}\n",
        "  )\n",
        "\n",
        "  Diphtheria_input = widgets.FloatText(\n",
        "      value= data['Diphtheria'].median(),\n",
        "      step=1,\n",
        "      description='Diphtheria:',\n",
        "      style={'description_width': 'initial'}\n",
        "  )\n",
        "\n",
        "  HIV_AIDS_input = widgets.FloatText(\n",
        "      value= data['HIV/AIDS'].median(),\n",
        "      step=1,\n",
        "      description='HIV/AIDS:',\n",
        "      style={'description_width': 'initial'}\n",
        "  )\n",
        "\n",
        "  GDP_input = widgets.FloatText(\n",
        "      value= data['GDP'].median(),\n",
        "      step=1,\n",
        "      description='GDP:',\n",
        "      style={'description_width': 'initial'}\n",
        "  )\n",
        "\n",
        "  Population_input = widgets.FloatText(\n",
        "      value= data['Population'].median(),\n",
        "      step=1,\n",
        "      description='Population:',\n",
        "      style={'description_width': 'initial'}\n",
        "  )\n",
        "\n",
        "  thinness_1_19_years_input = widgets.FloatText(\n",
        "      value= data['thinness 1-19 years'].median(),\n",
        "      step=1,\n",
        "      description='thinness 1-19 years:',\n",
        "      style={'description_width': 'initial'}\n",
        "  )\n",
        "\n",
        "  thinness_5_9_years_input = widgets.FloatText(\n",
        "      value= data['thinness 5-9 years'].median(),\n",
        "      step=1,\n",
        "      description='thinness 5-9 years:',\n",
        "      style={'description_width': 'initial'}\n",
        "  )\n",
        "\n",
        "  Income_composition_of_resources_input = widgets.FloatText(\n",
        "      value= data['Income composition of resources'].median(),\n",
        "      step=1,\n",
        "      description='Income composition of resources:',\n",
        "      style={'description_width': 'initial'}\n",
        "  )\n",
        "\n",
        "  Developed_input = widgets.IntSlider(\n",
        "      value= data['Developed'].median(),\n",
        "      step=1,\n",
        "      description='Developed:',\n",
        "      max=1,\n",
        "      style={'description_width': 'initial'}\n",
        "  )\n",
        "\n",
        "  schooling_input = widgets.FloatText(\n",
        "      value= data['Schooling'].median(),\n",
        "      step=1,\n",
        "      description='schooling:',\n",
        "      style={'description_width': 'initial'}\n",
        "  )\n",
        "\n",
        "  # Define button widget\n",
        "  submit_button = widgets.Button(description=\"Submit\")\n",
        "\n",
        "  # Define output widget\n",
        "  output_text = widgets.Output()\n",
        "\n",
        "  # Define function to handle form submission\n",
        "  def handle_submit(sender):\n",
        "      with output_text:\n",
        "          output_text.clear_output()\n",
        "          print(predict(Adult_Mortality_input.value, schooling_input.value, infant_deaths_input.value, Alcohol_input.value, percentage_expenditure_input.value,Hepatitis_B_input.value, Measles_input.value, BMI_input.value, under_five_deaths_input.value, Polio_input.value, Total_expenditure_input.value, Diphtheria_input.value, HIV_AIDS_input.value, GDP_input.value, Population_input.value, thinness_1_19_years_input.value, thinness_5_9_years_input.value, Income_composition_of_resources_input.value, Developed_input.value))\n",
        "\n",
        "  # Attach event handler to button click\n",
        "  submit_button.on_click(handle_submit)\n",
        "\n",
        "  # Display the form\n",
        "  display(Adult_Mortality_input, schooling_input, infant_deaths_input, Alcohol_input, percentage_expenditure_input,Hepatitis_B_input, Measles_input, BMI_input, under_five_deaths_input, Polio_input, Total_expenditure_input, Diphtheria_input, HIV_AIDS_input, GDP_input, Population_input, thinness_1_19_years_input, thinness_5_9_years_input, Income_composition_of_resources_input, Developed_input, submit_button, output_text)\n",
        "\n",
        "init_ui()"
      ]
    },
    {
      "cell_type": "code",
      "execution_count": null,
      "metadata": {},
      "outputs": [],
      "source": []
    }
  ],
  "metadata": {
    "colab": {
      "provenance": []
    },
    "kernelspec": {
      "display_name": "Python 3",
      "name": "python3"
    },
    "language_info": {
      "codemirror_mode": {
        "name": "ipython",
        "version": 3
      },
      "file_extension": ".py",
      "mimetype": "text/x-python",
      "name": "python",
      "nbconvert_exporter": "python",
      "pygments_lexer": "ipython3",
      "version": "3.10.11"
    },
    "widgets": {
      "application/vnd.jupyter.widget-state+json": {
        "03de8985699b429a9dad3640d82281b7": {
          "model_module": "@jupyter-widgets/controls",
          "model_module_version": "1.5.0",
          "model_name": "FloatTextModel",
          "state": {
            "_dom_classes": [],
            "_model_module": "@jupyter-widgets/controls",
            "_model_module_version": "1.5.0",
            "_model_name": "FloatTextModel",
            "_view_count": null,
            "_view_module": "@jupyter-widgets/controls",
            "_view_module_version": "1.5.0",
            "_view_name": "FloatTextView",
            "continuous_update": false,
            "description": "percentage expenditure:",
            "description_tooltip": null,
            "disabled": false,
            "layout": "IPY_MODEL_f330c360b40b4c5ead11d0b5dcc635d8",
            "step": 1,
            "style": "IPY_MODEL_506e0fbf925c44cc8bd2986470efc42f",
            "value": 65.61145482
          }
        },
        "092c7ce4840e46f1b8774af6a487103d": {
          "model_module": "@jupyter-widgets/controls",
          "model_module_version": "1.5.0",
          "model_name": "SliderStyleModel",
          "state": {
            "_model_module": "@jupyter-widgets/controls",
            "_model_module_version": "1.5.0",
            "_model_name": "SliderStyleModel",
            "_view_count": null,
            "_view_module": "@jupyter-widgets/base",
            "_view_module_version": "1.2.0",
            "_view_name": "StyleView",
            "description_width": "initial",
            "handle_color": null
          }
        },
        "0b29bfed166c48b7b561b3d56da599fd": {
          "model_module": "@jupyter-widgets/base",
          "model_module_version": "1.2.0",
          "model_name": "LayoutModel",
          "state": {
            "_model_module": "@jupyter-widgets/base",
            "_model_module_version": "1.2.0",
            "_model_name": "LayoutModel",
            "_view_count": null,
            "_view_module": "@jupyter-widgets/base",
            "_view_module_version": "1.2.0",
            "_view_name": "LayoutView",
            "align_content": null,
            "align_items": null,
            "align_self": null,
            "border": null,
            "bottom": null,
            "display": null,
            "flex": null,
            "flex_flow": null,
            "grid_area": null,
            "grid_auto_columns": null,
            "grid_auto_flow": null,
            "grid_auto_rows": null,
            "grid_column": null,
            "grid_gap": null,
            "grid_row": null,
            "grid_template_areas": null,
            "grid_template_columns": null,
            "grid_template_rows": null,
            "height": null,
            "justify_content": null,
            "justify_items": null,
            "left": null,
            "margin": null,
            "max_height": null,
            "max_width": null,
            "min_height": null,
            "min_width": null,
            "object_fit": null,
            "object_position": null,
            "order": null,
            "overflow": null,
            "overflow_x": null,
            "overflow_y": null,
            "padding": null,
            "right": null,
            "top": null,
            "visibility": null,
            "width": null
          }
        },
        "10baa3c6cde1460fac2260202fe18699": {
          "model_module": "@jupyter-widgets/base",
          "model_module_version": "1.2.0",
          "model_name": "LayoutModel",
          "state": {
            "_model_module": "@jupyter-widgets/base",
            "_model_module_version": "1.2.0",
            "_model_name": "LayoutModel",
            "_view_count": null,
            "_view_module": "@jupyter-widgets/base",
            "_view_module_version": "1.2.0",
            "_view_name": "LayoutView",
            "align_content": null,
            "align_items": null,
            "align_self": null,
            "border": null,
            "bottom": null,
            "display": null,
            "flex": null,
            "flex_flow": null,
            "grid_area": null,
            "grid_auto_columns": null,
            "grid_auto_flow": null,
            "grid_auto_rows": null,
            "grid_column": null,
            "grid_gap": null,
            "grid_row": null,
            "grid_template_areas": null,
            "grid_template_columns": null,
            "grid_template_rows": null,
            "height": null,
            "justify_content": null,
            "justify_items": null,
            "left": null,
            "margin": null,
            "max_height": null,
            "max_width": null,
            "min_height": null,
            "min_width": null,
            "object_fit": null,
            "object_position": null,
            "order": null,
            "overflow": null,
            "overflow_x": null,
            "overflow_y": null,
            "padding": null,
            "right": null,
            "top": null,
            "visibility": null,
            "width": null
          }
        },
        "111c1aa163294d1a8954f2e124bb6fd3": {
          "model_module": "@jupyter-widgets/output",
          "model_module_version": "1.0.0",
          "model_name": "OutputModel",
          "state": {
            "_dom_classes": [],
            "_model_module": "@jupyter-widgets/output",
            "_model_module_version": "1.0.0",
            "_model_name": "OutputModel",
            "_view_count": null,
            "_view_module": "@jupyter-widgets/output",
            "_view_module_version": "1.0.0",
            "_view_name": "OutputView",
            "layout": "IPY_MODEL_9e3d1c0bd13547a8bf03070eee6d298c",
            "msg_id": "",
            "outputs": []
          }
        },
        "132f8522d2d9403db3a0758011f48c1e": {
          "model_module": "@jupyter-widgets/controls",
          "model_module_version": "1.5.0",
          "model_name": "DescriptionStyleModel",
          "state": {
            "_model_module": "@jupyter-widgets/controls",
            "_model_module_version": "1.5.0",
            "_model_name": "DescriptionStyleModel",
            "_view_count": null,
            "_view_module": "@jupyter-widgets/base",
            "_view_module_version": "1.2.0",
            "_view_name": "StyleView",
            "description_width": "initial"
          }
        },
        "1794f9335cb84dd39c0da188636112de": {
          "model_module": "@jupyter-widgets/base",
          "model_module_version": "1.2.0",
          "model_name": "LayoutModel",
          "state": {
            "_model_module": "@jupyter-widgets/base",
            "_model_module_version": "1.2.0",
            "_model_name": "LayoutModel",
            "_view_count": null,
            "_view_module": "@jupyter-widgets/base",
            "_view_module_version": "1.2.0",
            "_view_name": "LayoutView",
            "align_content": null,
            "align_items": null,
            "align_self": null,
            "border": null,
            "bottom": null,
            "display": null,
            "flex": null,
            "flex_flow": null,
            "grid_area": null,
            "grid_auto_columns": null,
            "grid_auto_flow": null,
            "grid_auto_rows": null,
            "grid_column": null,
            "grid_gap": null,
            "grid_row": null,
            "grid_template_areas": null,
            "grid_template_columns": null,
            "grid_template_rows": null,
            "height": null,
            "justify_content": null,
            "justify_items": null,
            "left": null,
            "margin": null,
            "max_height": null,
            "max_width": null,
            "min_height": null,
            "min_width": null,
            "object_fit": null,
            "object_position": null,
            "order": null,
            "overflow": null,
            "overflow_x": null,
            "overflow_y": null,
            "padding": null,
            "right": null,
            "top": null,
            "visibility": null,
            "width": null
          }
        },
        "1de40cda69c84a8ea12db8c2d0801bc9": {
          "model_module": "@jupyter-widgets/controls",
          "model_module_version": "1.5.0",
          "model_name": "FloatTextModel",
          "state": {
            "_dom_classes": [],
            "_model_module": "@jupyter-widgets/controls",
            "_model_module_version": "1.5.0",
            "_model_name": "FloatTextModel",
            "_view_count": null,
            "_view_module": "@jupyter-widgets/controls",
            "_view_module_version": "1.5.0",
            "_view_name": "FloatTextView",
            "continuous_update": false,
            "description": "Population:",
            "description_tooltip": null,
            "disabled": false,
            "layout": "IPY_MODEL_7fce29cd6c054703b06ff6f62018e5a4",
            "step": 1,
            "style": "IPY_MODEL_d93cc6e8f05c4b6aa995fab3f07a68d5",
            "value": 1391756.5
          }
        },
        "1f0d57d551da42d59f67ff27a697adc1": {
          "model_module": "@jupyter-widgets/controls",
          "model_module_version": "1.5.0",
          "model_name": "FloatTextModel",
          "state": {
            "_dom_classes": [],
            "_model_module": "@jupyter-widgets/controls",
            "_model_module_version": "1.5.0",
            "_model_name": "FloatTextModel",
            "_view_count": null,
            "_view_module": "@jupyter-widgets/controls",
            "_view_module_version": "1.5.0",
            "_view_name": "FloatTextView",
            "continuous_update": false,
            "description": "BMI:",
            "description_tooltip": null,
            "disabled": false,
            "layout": "IPY_MODEL_10baa3c6cde1460fac2260202fe18699",
            "step": 1,
            "style": "IPY_MODEL_b30d1f7dd1dd45bf9843ba58e12c99d4",
            "value": 43.349999999999994
          }
        },
        "23e6315a719a453eb095d85b2f98a644": {
          "model_module": "@jupyter-widgets/controls",
          "model_module_version": "1.5.0",
          "model_name": "IntTextModel",
          "state": {
            "_dom_classes": [],
            "_model_module": "@jupyter-widgets/controls",
            "_model_module_version": "1.5.0",
            "_model_name": "IntTextModel",
            "_view_count": null,
            "_view_module": "@jupyter-widgets/controls",
            "_view_module_version": "1.5.0",
            "_view_name": "IntTextView",
            "continuous_update": false,
            "description": "under-five deaths:",
            "description_tooltip": null,
            "disabled": false,
            "layout": "IPY_MODEL_0b29bfed166c48b7b561b3d56da599fd",
            "step": 1,
            "style": "IPY_MODEL_b861e0b43a2b49f8a968ba8ee9607ef9",
            "value": 4
          }
        },
        "29fa27473c29416ea156f747a5e7e8a7": {
          "model_module": "@jupyter-widgets/controls",
          "model_module_version": "1.5.0",
          "model_name": "DescriptionStyleModel",
          "state": {
            "_model_module": "@jupyter-widgets/controls",
            "_model_module_version": "1.5.0",
            "_model_name": "DescriptionStyleModel",
            "_view_count": null,
            "_view_module": "@jupyter-widgets/base",
            "_view_module_version": "1.2.0",
            "_view_name": "StyleView",
            "description_width": "initial"
          }
        },
        "2a9a4014525f449587bbda904bbf0eed": {
          "model_module": "@jupyter-widgets/controls",
          "model_module_version": "1.5.0",
          "model_name": "ButtonModel",
          "state": {
            "_dom_classes": [],
            "_model_module": "@jupyter-widgets/controls",
            "_model_module_version": "1.5.0",
            "_model_name": "ButtonModel",
            "_view_count": null,
            "_view_module": "@jupyter-widgets/controls",
            "_view_module_version": "1.5.0",
            "_view_name": "ButtonView",
            "button_style": "",
            "description": "Submit",
            "disabled": false,
            "icon": "",
            "layout": "IPY_MODEL_d4a21939a18341f69409c0ce20170450",
            "style": "IPY_MODEL_5a3bcfbab5c44852ae255036dbd35ced",
            "tooltip": ""
          }
        },
        "369e06b8f5f84705a99067dafb6e6507": {
          "model_module": "@jupyter-widgets/controls",
          "model_module_version": "1.5.0",
          "model_name": "ToggleButtonsModel",
          "state": {
            "_dom_classes": [],
            "_model_module": "@jupyter-widgets/controls",
            "_model_module_version": "1.5.0",
            "_model_name": "ToggleButtonsModel",
            "_options_labels": [
              "Year",
              "Life expectancy",
              "Adult Mortality",
              "infant deaths",
              "Alcohol",
              "percentage expenditure",
              "Hepatitis B",
              "Measles",
              "BMI",
              "under-five deaths",
              "Polio",
              "Total expenditure",
              "Diphtheria",
              "HIV/AIDS",
              "GDP",
              "Population",
              "thinness 1-19 years",
              "thinness 5-9 years",
              "Income composition of resources",
              "Schooling",
              "Developed"
            ],
            "_view_count": null,
            "_view_module": "@jupyter-widgets/controls",
            "_view_module_version": "1.5.0",
            "_view_name": "ToggleButtonsView",
            "button_style": "",
            "description": "Features",
            "description_tooltip": null,
            "disabled": false,
            "icons": [],
            "index": 0,
            "layout": "IPY_MODEL_f1270ee4b6d44824bd7b912d8e5321d8",
            "style": "IPY_MODEL_a7b3c7d57f26474c9ba65521d5658fcf",
            "tooltips": []
          }
        },
        "3d4f037d2f5d4190a13a0f00622c6529": {
          "model_module": "@jupyter-widgets/base",
          "model_module_version": "1.2.0",
          "model_name": "LayoutModel",
          "state": {
            "_model_module": "@jupyter-widgets/base",
            "_model_module_version": "1.2.0",
            "_model_name": "LayoutModel",
            "_view_count": null,
            "_view_module": "@jupyter-widgets/base",
            "_view_module_version": "1.2.0",
            "_view_name": "LayoutView",
            "align_content": null,
            "align_items": null,
            "align_self": null,
            "border": null,
            "bottom": null,
            "display": null,
            "flex": null,
            "flex_flow": null,
            "grid_area": null,
            "grid_auto_columns": null,
            "grid_auto_flow": null,
            "grid_auto_rows": null,
            "grid_column": null,
            "grid_gap": null,
            "grid_row": null,
            "grid_template_areas": null,
            "grid_template_columns": null,
            "grid_template_rows": null,
            "height": null,
            "justify_content": null,
            "justify_items": null,
            "left": null,
            "margin": null,
            "max_height": null,
            "max_width": null,
            "min_height": null,
            "min_width": null,
            "object_fit": null,
            "object_position": null,
            "order": null,
            "overflow": null,
            "overflow_x": null,
            "overflow_y": null,
            "padding": null,
            "right": null,
            "top": null,
            "visibility": null,
            "width": null
          }
        },
        "3d5fa308c1194640b7359e7609960f1c": {
          "model_module": "@jupyter-widgets/controls",
          "model_module_version": "1.5.0",
          "model_name": "IntTextModel",
          "state": {
            "_dom_classes": [],
            "_model_module": "@jupyter-widgets/controls",
            "_model_module_version": "1.5.0",
            "_model_name": "IntTextModel",
            "_view_count": null,
            "_view_module": "@jupyter-widgets/controls",
            "_view_module_version": "1.5.0",
            "_view_name": "IntTextView",
            "continuous_update": false,
            "description": "infant deaths:",
            "description_tooltip": null,
            "disabled": false,
            "layout": "IPY_MODEL_1794f9335cb84dd39c0da188636112de",
            "step": 1,
            "style": "IPY_MODEL_83a987e201d8417ca74094466a280027",
            "value": 3
          }
        },
        "3ef27a3aacad4437906eab55ffe7d6e4": {
          "model_module": "@jupyter-widgets/output",
          "model_module_version": "1.0.0",
          "model_name": "OutputModel",
          "state": {
            "_dom_classes": [],
            "_model_module": "@jupyter-widgets/output",
            "_model_module_version": "1.0.0",
            "_model_name": "OutputModel",
            "_view_count": null,
            "_view_module": "@jupyter-widgets/output",
            "_view_module_version": "1.0.0",
            "_view_name": "OutputView",
            "layout": "IPY_MODEL_55a2a3cd3ecf46c5b27f61d6ac512910",
            "msg_id": "",
            "outputs": [
              {
                "data": {
                  "image/png": "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\n",
                  "text/plain": "<Figure size 800x600 with 1 Axes>"
                },
                "metadata": {},
                "output_type": "display_data"
              }
            ]
          }
        },
        "41259616c8b043498a3180a8878e455b": {
          "model_module": "@jupyter-widgets/controls",
          "model_module_version": "1.5.0",
          "model_name": "DescriptionStyleModel",
          "state": {
            "_model_module": "@jupyter-widgets/controls",
            "_model_module_version": "1.5.0",
            "_model_name": "DescriptionStyleModel",
            "_view_count": null,
            "_view_module": "@jupyter-widgets/base",
            "_view_module_version": "1.2.0",
            "_view_name": "StyleView",
            "description_width": "initial"
          }
        },
        "447bff6afa2d4bed89b1840a1df98bc2": {
          "model_module": "@jupyter-widgets/controls",
          "model_module_version": "1.5.0",
          "model_name": "DescriptionStyleModel",
          "state": {
            "_model_module": "@jupyter-widgets/controls",
            "_model_module_version": "1.5.0",
            "_model_name": "DescriptionStyleModel",
            "_view_count": null,
            "_view_module": "@jupyter-widgets/base",
            "_view_module_version": "1.2.0",
            "_view_name": "StyleView",
            "description_width": "initial"
          }
        },
        "44c8fa05d29647d994e78be329f016e4": {
          "model_module": "@jupyter-widgets/controls",
          "model_module_version": "1.5.0",
          "model_name": "DescriptionStyleModel",
          "state": {
            "_model_module": "@jupyter-widgets/controls",
            "_model_module_version": "1.5.0",
            "_model_name": "DescriptionStyleModel",
            "_view_count": null,
            "_view_module": "@jupyter-widgets/base",
            "_view_module_version": "1.2.0",
            "_view_name": "StyleView",
            "description_width": "initial"
          }
        },
        "49f9012e65fc4c1db808808f6c68c2ec": {
          "model_module": "@jupyter-widgets/controls",
          "model_module_version": "1.5.0",
          "model_name": "FloatTextModel",
          "state": {
            "_dom_classes": [],
            "_model_module": "@jupyter-widgets/controls",
            "_model_module_version": "1.5.0",
            "_model_name": "FloatTextModel",
            "_view_count": null,
            "_view_module": "@jupyter-widgets/controls",
            "_view_module_version": "1.5.0",
            "_view_name": "FloatTextView",
            "continuous_update": false,
            "description": "HIV/AIDS:",
            "description_tooltip": null,
            "disabled": false,
            "layout": "IPY_MODEL_734c8160103a4ea2b82859d91cec1201",
            "step": 1,
            "style": "IPY_MODEL_7cb02c4179294ad680719f91306ecfea",
            "value": 0.1
          }
        },
        "49fa04d9f95c4cfdb6340bb98683564b": {
          "model_module": "@jupyter-widgets/controls",
          "model_module_version": "1.5.0",
          "model_name": "FloatTextModel",
          "state": {
            "_dom_classes": [],
            "_model_module": "@jupyter-widgets/controls",
            "_model_module_version": "1.5.0",
            "_model_name": "FloatTextModel",
            "_view_count": null,
            "_view_module": "@jupyter-widgets/controls",
            "_view_module_version": "1.5.0",
            "_view_name": "FloatTextView",
            "continuous_update": false,
            "description": "GDP:",
            "description_tooltip": null,
            "disabled": false,
            "layout": "IPY_MODEL_3d4f037d2f5d4190a13a0f00622c6529",
            "step": 1,
            "style": "IPY_MODEL_80b57f923bba4ad6a9d93d26983a1468",
            "value": 2244.5662218833904
          }
        },
        "4c460ed977ef4eb29dd53cbf18c09b41": {
          "model_module": "@jupyter-widgets/controls",
          "model_module_version": "1.5.0",
          "model_name": "FloatTextModel",
          "state": {
            "_dom_classes": [],
            "_model_module": "@jupyter-widgets/controls",
            "_model_module_version": "1.5.0",
            "_model_name": "FloatTextModel",
            "_view_count": null,
            "_view_module": "@jupyter-widgets/controls",
            "_view_module_version": "1.5.0",
            "_view_name": "FloatTextView",
            "continuous_update": false,
            "description": "adult mortality:",
            "description_tooltip": null,
            "disabled": false,
            "layout": "IPY_MODEL_8e4fc329b3d94c39b8be51e0b2d678c1",
            "step": 1,
            "style": "IPY_MODEL_447bff6afa2d4bed89b1840a1df98bc2",
            "value": 144
          }
        },
        "506e0fbf925c44cc8bd2986470efc42f": {
          "model_module": "@jupyter-widgets/controls",
          "model_module_version": "1.5.0",
          "model_name": "DescriptionStyleModel",
          "state": {
            "_model_module": "@jupyter-widgets/controls",
            "_model_module_version": "1.5.0",
            "_model_name": "DescriptionStyleModel",
            "_view_count": null,
            "_view_module": "@jupyter-widgets/base",
            "_view_module_version": "1.2.0",
            "_view_name": "StyleView",
            "description_width": "initial"
          }
        },
        "5158c3019a284549aa997c162e555661": {
          "model_module": "@jupyter-widgets/base",
          "model_module_version": "1.2.0",
          "model_name": "LayoutModel",
          "state": {
            "_model_module": "@jupyter-widgets/base",
            "_model_module_version": "1.2.0",
            "_model_name": "LayoutModel",
            "_view_count": null,
            "_view_module": "@jupyter-widgets/base",
            "_view_module_version": "1.2.0",
            "_view_name": "LayoutView",
            "align_content": null,
            "align_items": null,
            "align_self": null,
            "border": null,
            "bottom": null,
            "display": null,
            "flex": null,
            "flex_flow": null,
            "grid_area": null,
            "grid_auto_columns": null,
            "grid_auto_flow": null,
            "grid_auto_rows": null,
            "grid_column": null,
            "grid_gap": null,
            "grid_row": null,
            "grid_template_areas": null,
            "grid_template_columns": null,
            "grid_template_rows": null,
            "height": null,
            "justify_content": null,
            "justify_items": null,
            "left": null,
            "margin": null,
            "max_height": null,
            "max_width": null,
            "min_height": null,
            "min_width": null,
            "object_fit": null,
            "object_position": null,
            "order": null,
            "overflow": null,
            "overflow_x": null,
            "overflow_y": null,
            "padding": null,
            "right": null,
            "top": null,
            "visibility": null,
            "width": null
          }
        },
        "55a2a3cd3ecf46c5b27f61d6ac512910": {
          "model_module": "@jupyter-widgets/base",
          "model_module_version": "1.2.0",
          "model_name": "LayoutModel",
          "state": {
            "_model_module": "@jupyter-widgets/base",
            "_model_module_version": "1.2.0",
            "_model_name": "LayoutModel",
            "_view_count": null,
            "_view_module": "@jupyter-widgets/base",
            "_view_module_version": "1.2.0",
            "_view_name": "LayoutView",
            "align_content": null,
            "align_items": null,
            "align_self": null,
            "border": null,
            "bottom": null,
            "display": null,
            "flex": null,
            "flex_flow": null,
            "grid_area": null,
            "grid_auto_columns": null,
            "grid_auto_flow": null,
            "grid_auto_rows": null,
            "grid_column": null,
            "grid_gap": null,
            "grid_row": null,
            "grid_template_areas": null,
            "grid_template_columns": null,
            "grid_template_rows": null,
            "height": null,
            "justify_content": null,
            "justify_items": null,
            "left": null,
            "margin": null,
            "max_height": null,
            "max_width": null,
            "min_height": null,
            "min_width": null,
            "object_fit": null,
            "object_position": null,
            "order": null,
            "overflow": null,
            "overflow_x": null,
            "overflow_y": null,
            "padding": null,
            "right": null,
            "top": null,
            "visibility": null,
            "width": null
          }
        },
        "5a3bcfbab5c44852ae255036dbd35ced": {
          "model_module": "@jupyter-widgets/controls",
          "model_module_version": "1.5.0",
          "model_name": "ButtonStyleModel",
          "state": {
            "_model_module": "@jupyter-widgets/controls",
            "_model_module_version": "1.5.0",
            "_model_name": "ButtonStyleModel",
            "_view_count": null,
            "_view_module": "@jupyter-widgets/base",
            "_view_module_version": "1.2.0",
            "_view_name": "StyleView",
            "button_color": null,
            "font_weight": ""
          }
        },
        "5fd748c09eb64c9d93e6d1797f8ce146": {
          "model_module": "@jupyter-widgets/output",
          "model_module_version": "1.0.0",
          "model_name": "OutputModel",
          "state": {
            "_dom_classes": [],
            "_model_module": "@jupyter-widgets/output",
            "_model_module_version": "1.0.0",
            "_model_name": "OutputModel",
            "_view_count": null,
            "_view_module": "@jupyter-widgets/output",
            "_view_module_version": "1.0.0",
            "_view_name": "OutputView",
            "layout": "IPY_MODEL_85b26758e8a24249963043bb09239fd5",
            "msg_id": "",
            "outputs": [
              {
                "data": {
                  "image/png": "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\n",
                  "text/plain": "<Figure size 800x600 with 1 Axes>"
                },
                "metadata": {},
                "output_type": "display_data"
              }
            ]
          }
        },
        "6c85c7fed9b743749bc6a78e7006a4b9": {
          "model_module": "@jupyter-widgets/base",
          "model_module_version": "1.2.0",
          "model_name": "LayoutModel",
          "state": {
            "_model_module": "@jupyter-widgets/base",
            "_model_module_version": "1.2.0",
            "_model_name": "LayoutModel",
            "_view_count": null,
            "_view_module": "@jupyter-widgets/base",
            "_view_module_version": "1.2.0",
            "_view_name": "LayoutView",
            "align_content": null,
            "align_items": null,
            "align_self": null,
            "border": null,
            "bottom": null,
            "display": null,
            "flex": null,
            "flex_flow": null,
            "grid_area": null,
            "grid_auto_columns": null,
            "grid_auto_flow": null,
            "grid_auto_rows": null,
            "grid_column": null,
            "grid_gap": null,
            "grid_row": null,
            "grid_template_areas": null,
            "grid_template_columns": null,
            "grid_template_rows": null,
            "height": null,
            "justify_content": null,
            "justify_items": null,
            "left": null,
            "margin": null,
            "max_height": null,
            "max_width": null,
            "min_height": null,
            "min_width": null,
            "object_fit": null,
            "object_position": null,
            "order": null,
            "overflow": null,
            "overflow_x": null,
            "overflow_y": null,
            "padding": null,
            "right": null,
            "top": null,
            "visibility": null,
            "width": null
          }
        },
        "6d689c70411c4e2cb5bb6b94eb157f53": {
          "model_module": "@jupyter-widgets/base",
          "model_module_version": "1.2.0",
          "model_name": "LayoutModel",
          "state": {
            "_model_module": "@jupyter-widgets/base",
            "_model_module_version": "1.2.0",
            "_model_name": "LayoutModel",
            "_view_count": null,
            "_view_module": "@jupyter-widgets/base",
            "_view_module_version": "1.2.0",
            "_view_name": "LayoutView",
            "align_content": null,
            "align_items": null,
            "align_self": null,
            "border": null,
            "bottom": null,
            "display": null,
            "flex": null,
            "flex_flow": null,
            "grid_area": null,
            "grid_auto_columns": null,
            "grid_auto_flow": null,
            "grid_auto_rows": null,
            "grid_column": null,
            "grid_gap": null,
            "grid_row": null,
            "grid_template_areas": null,
            "grid_template_columns": null,
            "grid_template_rows": null,
            "height": null,
            "justify_content": null,
            "justify_items": null,
            "left": null,
            "margin": null,
            "max_height": null,
            "max_width": null,
            "min_height": null,
            "min_width": null,
            "object_fit": null,
            "object_position": null,
            "order": null,
            "overflow": null,
            "overflow_x": null,
            "overflow_y": null,
            "padding": null,
            "right": null,
            "top": null,
            "visibility": null,
            "width": null
          }
        },
        "734c8160103a4ea2b82859d91cec1201": {
          "model_module": "@jupyter-widgets/base",
          "model_module_version": "1.2.0",
          "model_name": "LayoutModel",
          "state": {
            "_model_module": "@jupyter-widgets/base",
            "_model_module_version": "1.2.0",
            "_model_name": "LayoutModel",
            "_view_count": null,
            "_view_module": "@jupyter-widgets/base",
            "_view_module_version": "1.2.0",
            "_view_name": "LayoutView",
            "align_content": null,
            "align_items": null,
            "align_self": null,
            "border": null,
            "bottom": null,
            "display": null,
            "flex": null,
            "flex_flow": null,
            "grid_area": null,
            "grid_auto_columns": null,
            "grid_auto_flow": null,
            "grid_auto_rows": null,
            "grid_column": null,
            "grid_gap": null,
            "grid_row": null,
            "grid_template_areas": null,
            "grid_template_columns": null,
            "grid_template_rows": null,
            "height": null,
            "justify_content": null,
            "justify_items": null,
            "left": null,
            "margin": null,
            "max_height": null,
            "max_width": null,
            "min_height": null,
            "min_width": null,
            "object_fit": null,
            "object_position": null,
            "order": null,
            "overflow": null,
            "overflow_x": null,
            "overflow_y": null,
            "padding": null,
            "right": null,
            "top": null,
            "visibility": null,
            "width": null
          }
        },
        "748ac4a63bb64300935c730f7b461a5c": {
          "model_module": "@jupyter-widgets/controls",
          "model_module_version": "1.5.0",
          "model_name": "DescriptionStyleModel",
          "state": {
            "_model_module": "@jupyter-widgets/controls",
            "_model_module_version": "1.5.0",
            "_model_name": "DescriptionStyleModel",
            "_view_count": null,
            "_view_module": "@jupyter-widgets/base",
            "_view_module_version": "1.2.0",
            "_view_name": "StyleView",
            "description_width": "initial"
          }
        },
        "7801c7c901854cd0b1ccb21b422cb9e9": {
          "model_module": "@jupyter-widgets/controls",
          "model_module_version": "1.5.0",
          "model_name": "FloatTextModel",
          "state": {
            "_dom_classes": [],
            "_model_module": "@jupyter-widgets/controls",
            "_model_module_version": "1.5.0",
            "_model_name": "FloatTextModel",
            "_view_count": null,
            "_view_module": "@jupyter-widgets/controls",
            "_view_module_version": "1.5.0",
            "_view_name": "FloatTextView",
            "continuous_update": false,
            "description": "Diphtheria:",
            "description_tooltip": null,
            "disabled": false,
            "layout": "IPY_MODEL_8da92f4556f94ec2bcb8ac5f0f740ba8",
            "step": 1,
            "style": "IPY_MODEL_88d74f02ecbb46fe83c0e589f5ff823b",
            "value": 93
          }
        },
        "7be470dd8459417f81fb02c3e75f04a1": {
          "model_module": "@jupyter-widgets/base",
          "model_module_version": "1.2.0",
          "model_name": "LayoutModel",
          "state": {
            "_model_module": "@jupyter-widgets/base",
            "_model_module_version": "1.2.0",
            "_model_name": "LayoutModel",
            "_view_count": null,
            "_view_module": "@jupyter-widgets/base",
            "_view_module_version": "1.2.0",
            "_view_name": "LayoutView",
            "align_content": null,
            "align_items": null,
            "align_self": null,
            "border": null,
            "bottom": null,
            "display": null,
            "flex": null,
            "flex_flow": null,
            "grid_area": null,
            "grid_auto_columns": null,
            "grid_auto_flow": null,
            "grid_auto_rows": null,
            "grid_column": null,
            "grid_gap": null,
            "grid_row": null,
            "grid_template_areas": null,
            "grid_template_columns": null,
            "grid_template_rows": null,
            "height": null,
            "justify_content": null,
            "justify_items": null,
            "left": null,
            "margin": null,
            "max_height": null,
            "max_width": null,
            "min_height": null,
            "min_width": null,
            "object_fit": null,
            "object_position": null,
            "order": null,
            "overflow": null,
            "overflow_x": null,
            "overflow_y": null,
            "padding": null,
            "right": null,
            "top": null,
            "visibility": null,
            "width": null
          }
        },
        "7cb02c4179294ad680719f91306ecfea": {
          "model_module": "@jupyter-widgets/controls",
          "model_module_version": "1.5.0",
          "model_name": "DescriptionStyleModel",
          "state": {
            "_model_module": "@jupyter-widgets/controls",
            "_model_module_version": "1.5.0",
            "_model_name": "DescriptionStyleModel",
            "_view_count": null,
            "_view_module": "@jupyter-widgets/base",
            "_view_module_version": "1.2.0",
            "_view_name": "StyleView",
            "description_width": "initial"
          }
        },
        "7cc5fc72116e4a418a4c3390aebcddec": {
          "model_module": "@jupyter-widgets/controls",
          "model_module_version": "1.5.0",
          "model_name": "FloatTextModel",
          "state": {
            "_dom_classes": [],
            "_model_module": "@jupyter-widgets/controls",
            "_model_module_version": "1.5.0",
            "_model_name": "FloatTextModel",
            "_view_count": null,
            "_view_module": "@jupyter-widgets/controls",
            "_view_module_version": "1.5.0",
            "_view_name": "FloatTextView",
            "continuous_update": false,
            "description": "Total expenditure:",
            "description_tooltip": null,
            "disabled": false,
            "layout": "IPY_MODEL_aaa7b82fd3514548b7d9bf2141c77232",
            "step": 1,
            "style": "IPY_MODEL_41259616c8b043498a3180a8878e455b",
            "value": 5.75
          }
        },
        "7fce29cd6c054703b06ff6f62018e5a4": {
          "model_module": "@jupyter-widgets/base",
          "model_module_version": "1.2.0",
          "model_name": "LayoutModel",
          "state": {
            "_model_module": "@jupyter-widgets/base",
            "_model_module_version": "1.2.0",
            "_model_name": "LayoutModel",
            "_view_count": null,
            "_view_module": "@jupyter-widgets/base",
            "_view_module_version": "1.2.0",
            "_view_name": "LayoutView",
            "align_content": null,
            "align_items": null,
            "align_self": null,
            "border": null,
            "bottom": null,
            "display": null,
            "flex": null,
            "flex_flow": null,
            "grid_area": null,
            "grid_auto_columns": null,
            "grid_auto_flow": null,
            "grid_auto_rows": null,
            "grid_column": null,
            "grid_gap": null,
            "grid_row": null,
            "grid_template_areas": null,
            "grid_template_columns": null,
            "grid_template_rows": null,
            "height": null,
            "justify_content": null,
            "justify_items": null,
            "left": null,
            "margin": null,
            "max_height": null,
            "max_width": null,
            "min_height": null,
            "min_width": null,
            "object_fit": null,
            "object_position": null,
            "order": null,
            "overflow": null,
            "overflow_x": null,
            "overflow_y": null,
            "padding": null,
            "right": null,
            "top": null,
            "visibility": null,
            "width": null
          }
        },
        "80b57f923bba4ad6a9d93d26983a1468": {
          "model_module": "@jupyter-widgets/controls",
          "model_module_version": "1.5.0",
          "model_name": "DescriptionStyleModel",
          "state": {
            "_model_module": "@jupyter-widgets/controls",
            "_model_module_version": "1.5.0",
            "_model_name": "DescriptionStyleModel",
            "_view_count": null,
            "_view_module": "@jupyter-widgets/base",
            "_view_module_version": "1.2.0",
            "_view_name": "StyleView",
            "description_width": "initial"
          }
        },
        "83a987e201d8417ca74094466a280027": {
          "model_module": "@jupyter-widgets/controls",
          "model_module_version": "1.5.0",
          "model_name": "DescriptionStyleModel",
          "state": {
            "_model_module": "@jupyter-widgets/controls",
            "_model_module_version": "1.5.0",
            "_model_name": "DescriptionStyleModel",
            "_view_count": null,
            "_view_module": "@jupyter-widgets/base",
            "_view_module_version": "1.2.0",
            "_view_name": "StyleView",
            "description_width": "initial"
          }
        },
        "85b26758e8a24249963043bb09239fd5": {
          "model_module": "@jupyter-widgets/base",
          "model_module_version": "1.2.0",
          "model_name": "LayoutModel",
          "state": {
            "_model_module": "@jupyter-widgets/base",
            "_model_module_version": "1.2.0",
            "_model_name": "LayoutModel",
            "_view_count": null,
            "_view_module": "@jupyter-widgets/base",
            "_view_module_version": "1.2.0",
            "_view_name": "LayoutView",
            "align_content": null,
            "align_items": null,
            "align_self": null,
            "border": null,
            "bottom": null,
            "display": null,
            "flex": null,
            "flex_flow": null,
            "grid_area": null,
            "grid_auto_columns": null,
            "grid_auto_flow": null,
            "grid_auto_rows": null,
            "grid_column": null,
            "grid_gap": null,
            "grid_row": null,
            "grid_template_areas": null,
            "grid_template_columns": null,
            "grid_template_rows": null,
            "height": null,
            "justify_content": null,
            "justify_items": null,
            "left": null,
            "margin": null,
            "max_height": null,
            "max_width": null,
            "min_height": null,
            "min_width": null,
            "object_fit": null,
            "object_position": null,
            "order": null,
            "overflow": null,
            "overflow_x": null,
            "overflow_y": null,
            "padding": null,
            "right": null,
            "top": null,
            "visibility": null,
            "width": null
          }
        },
        "880c56f1277f46f5b4b16c34ba245e6d": {
          "model_module": "@jupyter-widgets/controls",
          "model_module_version": "1.5.0",
          "model_name": "IntSliderModel",
          "state": {
            "_dom_classes": [],
            "_model_module": "@jupyter-widgets/controls",
            "_model_module_version": "1.5.0",
            "_model_name": "IntSliderModel",
            "_view_count": null,
            "_view_module": "@jupyter-widgets/controls",
            "_view_module_version": "1.5.0",
            "_view_name": "IntSliderView",
            "continuous_update": true,
            "description": "Developed:",
            "description_tooltip": null,
            "disabled": false,
            "layout": "IPY_MODEL_baf9c609b7ef47af8e24db0be5723407",
            "max": 1,
            "min": 0,
            "orientation": "horizontal",
            "readout": true,
            "readout_format": "d",
            "step": 1,
            "style": "IPY_MODEL_092c7ce4840e46f1b8774af6a487103d",
            "value": 0
          }
        },
        "88d74f02ecbb46fe83c0e589f5ff823b": {
          "model_module": "@jupyter-widgets/controls",
          "model_module_version": "1.5.0",
          "model_name": "DescriptionStyleModel",
          "state": {
            "_model_module": "@jupyter-widgets/controls",
            "_model_module_version": "1.5.0",
            "_model_name": "DescriptionStyleModel",
            "_view_count": null,
            "_view_module": "@jupyter-widgets/base",
            "_view_module_version": "1.2.0",
            "_view_name": "StyleView",
            "description_width": "initial"
          }
        },
        "8da92f4556f94ec2bcb8ac5f0f740ba8": {
          "model_module": "@jupyter-widgets/base",
          "model_module_version": "1.2.0",
          "model_name": "LayoutModel",
          "state": {
            "_model_module": "@jupyter-widgets/base",
            "_model_module_version": "1.2.0",
            "_model_name": "LayoutModel",
            "_view_count": null,
            "_view_module": "@jupyter-widgets/base",
            "_view_module_version": "1.2.0",
            "_view_name": "LayoutView",
            "align_content": null,
            "align_items": null,
            "align_self": null,
            "border": null,
            "bottom": null,
            "display": null,
            "flex": null,
            "flex_flow": null,
            "grid_area": null,
            "grid_auto_columns": null,
            "grid_auto_flow": null,
            "grid_auto_rows": null,
            "grid_column": null,
            "grid_gap": null,
            "grid_row": null,
            "grid_template_areas": null,
            "grid_template_columns": null,
            "grid_template_rows": null,
            "height": null,
            "justify_content": null,
            "justify_items": null,
            "left": null,
            "margin": null,
            "max_height": null,
            "max_width": null,
            "min_height": null,
            "min_width": null,
            "object_fit": null,
            "object_position": null,
            "order": null,
            "overflow": null,
            "overflow_x": null,
            "overflow_y": null,
            "padding": null,
            "right": null,
            "top": null,
            "visibility": null,
            "width": null
          }
        },
        "8dde3ffb92e34533ab095d9cb78182c9": {
          "model_module": "@jupyter-widgets/base",
          "model_module_version": "1.2.0",
          "model_name": "LayoutModel",
          "state": {
            "_model_module": "@jupyter-widgets/base",
            "_model_module_version": "1.2.0",
            "_model_name": "LayoutModel",
            "_view_count": null,
            "_view_module": "@jupyter-widgets/base",
            "_view_module_version": "1.2.0",
            "_view_name": "LayoutView",
            "align_content": null,
            "align_items": null,
            "align_self": null,
            "border": null,
            "bottom": null,
            "display": null,
            "flex": null,
            "flex_flow": null,
            "grid_area": null,
            "grid_auto_columns": null,
            "grid_auto_flow": null,
            "grid_auto_rows": null,
            "grid_column": null,
            "grid_gap": null,
            "grid_row": null,
            "grid_template_areas": null,
            "grid_template_columns": null,
            "grid_template_rows": null,
            "height": null,
            "justify_content": null,
            "justify_items": null,
            "left": null,
            "margin": null,
            "max_height": null,
            "max_width": null,
            "min_height": null,
            "min_width": null,
            "object_fit": null,
            "object_position": null,
            "order": null,
            "overflow": null,
            "overflow_x": null,
            "overflow_y": null,
            "padding": null,
            "right": null,
            "top": null,
            "visibility": null,
            "width": null
          }
        },
        "8e4fc329b3d94c39b8be51e0b2d678c1": {
          "model_module": "@jupyter-widgets/base",
          "model_module_version": "1.2.0",
          "model_name": "LayoutModel",
          "state": {
            "_model_module": "@jupyter-widgets/base",
            "_model_module_version": "1.2.0",
            "_model_name": "LayoutModel",
            "_view_count": null,
            "_view_module": "@jupyter-widgets/base",
            "_view_module_version": "1.2.0",
            "_view_name": "LayoutView",
            "align_content": null,
            "align_items": null,
            "align_self": null,
            "border": null,
            "bottom": null,
            "display": null,
            "flex": null,
            "flex_flow": null,
            "grid_area": null,
            "grid_auto_columns": null,
            "grid_auto_flow": null,
            "grid_auto_rows": null,
            "grid_column": null,
            "grid_gap": null,
            "grid_row": null,
            "grid_template_areas": null,
            "grid_template_columns": null,
            "grid_template_rows": null,
            "height": null,
            "justify_content": null,
            "justify_items": null,
            "left": null,
            "margin": null,
            "max_height": null,
            "max_width": null,
            "min_height": null,
            "min_width": null,
            "object_fit": null,
            "object_position": null,
            "order": null,
            "overflow": null,
            "overflow_x": null,
            "overflow_y": null,
            "padding": null,
            "right": null,
            "top": null,
            "visibility": null,
            "width": null
          }
        },
        "9acf12879c304f33a39425c2df3c6239": {
          "model_module": "@jupyter-widgets/controls",
          "model_module_version": "1.5.0",
          "model_name": "FloatTextModel",
          "state": {
            "_dom_classes": [],
            "_model_module": "@jupyter-widgets/controls",
            "_model_module_version": "1.5.0",
            "_model_name": "FloatTextModel",
            "_view_count": null,
            "_view_module": "@jupyter-widgets/controls",
            "_view_module_version": "1.5.0",
            "_view_name": "FloatTextView",
            "continuous_update": false,
            "description": "thinness 5-9 years:",
            "description_tooltip": null,
            "disabled": false,
            "layout": "IPY_MODEL_cc6c22c508e64ebd98854467201e11ba",
            "step": 1,
            "style": "IPY_MODEL_cc267187e6fe453b9a130c356bc4a121",
            "value": 3.4
          }
        },
        "9e3d1c0bd13547a8bf03070eee6d298c": {
          "model_module": "@jupyter-widgets/base",
          "model_module_version": "1.2.0",
          "model_name": "LayoutModel",
          "state": {
            "_model_module": "@jupyter-widgets/base",
            "_model_module_version": "1.2.0",
            "_model_name": "LayoutModel",
            "_view_count": null,
            "_view_module": "@jupyter-widgets/base",
            "_view_module_version": "1.2.0",
            "_view_name": "LayoutView",
            "align_content": null,
            "align_items": null,
            "align_self": null,
            "border": null,
            "bottom": null,
            "display": null,
            "flex": null,
            "flex_flow": null,
            "grid_area": null,
            "grid_auto_columns": null,
            "grid_auto_flow": null,
            "grid_auto_rows": null,
            "grid_column": null,
            "grid_gap": null,
            "grid_row": null,
            "grid_template_areas": null,
            "grid_template_columns": null,
            "grid_template_rows": null,
            "height": null,
            "justify_content": null,
            "justify_items": null,
            "left": null,
            "margin": null,
            "max_height": null,
            "max_width": null,
            "min_height": null,
            "min_width": null,
            "object_fit": null,
            "object_position": null,
            "order": null,
            "overflow": null,
            "overflow_x": null,
            "overflow_y": null,
            "padding": null,
            "right": null,
            "top": null,
            "visibility": null,
            "width": null
          }
        },
        "9ebd806ad94e4dae991798e220e35fb1": {
          "model_module": "@jupyter-widgets/controls",
          "model_module_version": "1.5.0",
          "model_name": "FloatTextModel",
          "state": {
            "_dom_classes": [],
            "_model_module": "@jupyter-widgets/controls",
            "_model_module_version": "1.5.0",
            "_model_name": "FloatTextModel",
            "_view_count": null,
            "_view_module": "@jupyter-widgets/controls",
            "_view_module_version": "1.5.0",
            "_view_name": "FloatTextView",
            "continuous_update": false,
            "description": "schooling:",
            "description_tooltip": null,
            "disabled": false,
            "layout": "IPY_MODEL_7be470dd8459417f81fb02c3e75f04a1",
            "step": 1,
            "style": "IPY_MODEL_132f8522d2d9403db3a0758011f48c1e",
            "value": 12.3
          }
        },
        "a070acde1a494f3fb8005abd714bd0e9": {
          "model_module": "@jupyter-widgets/base",
          "model_module_version": "1.2.0",
          "model_name": "LayoutModel",
          "state": {
            "_model_module": "@jupyter-widgets/base",
            "_model_module_version": "1.2.0",
            "_model_name": "LayoutModel",
            "_view_count": null,
            "_view_module": "@jupyter-widgets/base",
            "_view_module_version": "1.2.0",
            "_view_name": "LayoutView",
            "align_content": null,
            "align_items": null,
            "align_self": null,
            "border": null,
            "bottom": null,
            "display": null,
            "flex": null,
            "flex_flow": null,
            "grid_area": null,
            "grid_auto_columns": null,
            "grid_auto_flow": null,
            "grid_auto_rows": null,
            "grid_column": null,
            "grid_gap": null,
            "grid_row": null,
            "grid_template_areas": null,
            "grid_template_columns": null,
            "grid_template_rows": null,
            "height": null,
            "justify_content": null,
            "justify_items": null,
            "left": null,
            "margin": null,
            "max_height": null,
            "max_width": null,
            "min_height": null,
            "min_width": null,
            "object_fit": null,
            "object_position": null,
            "order": null,
            "overflow": null,
            "overflow_x": null,
            "overflow_y": null,
            "padding": null,
            "right": null,
            "top": null,
            "visibility": null,
            "width": null
          }
        },
        "a6d8808384314905b9e3d66656609528": {
          "model_module": "@jupyter-widgets/base",
          "model_module_version": "1.2.0",
          "model_name": "LayoutModel",
          "state": {
            "_model_module": "@jupyter-widgets/base",
            "_model_module_version": "1.2.0",
            "_model_name": "LayoutModel",
            "_view_count": null,
            "_view_module": "@jupyter-widgets/base",
            "_view_module_version": "1.2.0",
            "_view_name": "LayoutView",
            "align_content": null,
            "align_items": null,
            "align_self": null,
            "border": null,
            "bottom": null,
            "display": null,
            "flex": null,
            "flex_flow": null,
            "grid_area": null,
            "grid_auto_columns": null,
            "grid_auto_flow": null,
            "grid_auto_rows": null,
            "grid_column": null,
            "grid_gap": null,
            "grid_row": null,
            "grid_template_areas": null,
            "grid_template_columns": null,
            "grid_template_rows": null,
            "height": null,
            "justify_content": null,
            "justify_items": null,
            "left": null,
            "margin": null,
            "max_height": null,
            "max_width": null,
            "min_height": null,
            "min_width": null,
            "object_fit": null,
            "object_position": null,
            "order": null,
            "overflow": null,
            "overflow_x": null,
            "overflow_y": null,
            "padding": null,
            "right": null,
            "top": null,
            "visibility": null,
            "width": null
          }
        },
        "a7b3c7d57f26474c9ba65521d5658fcf": {
          "model_module": "@jupyter-widgets/controls",
          "model_module_version": "1.5.0",
          "model_name": "ToggleButtonsStyleModel",
          "state": {
            "_model_module": "@jupyter-widgets/controls",
            "_model_module_version": "1.5.0",
            "_model_name": "ToggleButtonsStyleModel",
            "_view_count": null,
            "_view_module": "@jupyter-widgets/base",
            "_view_module_version": "1.2.0",
            "_view_name": "StyleView",
            "button_width": "",
            "description_width": "",
            "font_weight": ""
          }
        },
        "aaa7b82fd3514548b7d9bf2141c77232": {
          "model_module": "@jupyter-widgets/base",
          "model_module_version": "1.2.0",
          "model_name": "LayoutModel",
          "state": {
            "_model_module": "@jupyter-widgets/base",
            "_model_module_version": "1.2.0",
            "_model_name": "LayoutModel",
            "_view_count": null,
            "_view_module": "@jupyter-widgets/base",
            "_view_module_version": "1.2.0",
            "_view_name": "LayoutView",
            "align_content": null,
            "align_items": null,
            "align_self": null,
            "border": null,
            "bottom": null,
            "display": null,
            "flex": null,
            "flex_flow": null,
            "grid_area": null,
            "grid_auto_columns": null,
            "grid_auto_flow": null,
            "grid_auto_rows": null,
            "grid_column": null,
            "grid_gap": null,
            "grid_row": null,
            "grid_template_areas": null,
            "grid_template_columns": null,
            "grid_template_rows": null,
            "height": null,
            "justify_content": null,
            "justify_items": null,
            "left": null,
            "margin": null,
            "max_height": null,
            "max_width": null,
            "min_height": null,
            "min_width": null,
            "object_fit": null,
            "object_position": null,
            "order": null,
            "overflow": null,
            "overflow_x": null,
            "overflow_y": null,
            "padding": null,
            "right": null,
            "top": null,
            "visibility": null,
            "width": null
          }
        },
        "b30d1f7dd1dd45bf9843ba58e12c99d4": {
          "model_module": "@jupyter-widgets/controls",
          "model_module_version": "1.5.0",
          "model_name": "DescriptionStyleModel",
          "state": {
            "_model_module": "@jupyter-widgets/controls",
            "_model_module_version": "1.5.0",
            "_model_name": "DescriptionStyleModel",
            "_view_count": null,
            "_view_module": "@jupyter-widgets/base",
            "_view_module_version": "1.2.0",
            "_view_name": "StyleView",
            "description_width": "initial"
          }
        },
        "b46d2ec59a954acea18b20a58a0196e8": {
          "model_module": "@jupyter-widgets/controls",
          "model_module_version": "1.5.0",
          "model_name": "FloatTextModel",
          "state": {
            "_dom_classes": [],
            "_model_module": "@jupyter-widgets/controls",
            "_model_module_version": "1.5.0",
            "_model_name": "FloatTextModel",
            "_view_count": null,
            "_view_module": "@jupyter-widgets/controls",
            "_view_module_version": "1.5.0",
            "_view_name": "FloatTextView",
            "continuous_update": false,
            "description": "Polio:",
            "description_tooltip": null,
            "disabled": false,
            "layout": "IPY_MODEL_dbe92cf2bd3d4a9786d60bc8d2ca82b4",
            "step": 1,
            "style": "IPY_MODEL_44c8fa05d29647d994e78be329f016e4",
            "value": 93
          }
        },
        "b861e0b43a2b49f8a968ba8ee9607ef9": {
          "model_module": "@jupyter-widgets/controls",
          "model_module_version": "1.5.0",
          "model_name": "DescriptionStyleModel",
          "state": {
            "_model_module": "@jupyter-widgets/controls",
            "_model_module_version": "1.5.0",
            "_model_name": "DescriptionStyleModel",
            "_view_count": null,
            "_view_module": "@jupyter-widgets/base",
            "_view_module_version": "1.2.0",
            "_view_name": "StyleView",
            "description_width": "initial"
          }
        },
        "b9a5d2d31b2641b9947f85037b8c1671": {
          "model_module": "@jupyter-widgets/controls",
          "model_module_version": "1.5.0",
          "model_name": "FloatTextModel",
          "state": {
            "_dom_classes": [],
            "_model_module": "@jupyter-widgets/controls",
            "_model_module_version": "1.5.0",
            "_model_name": "FloatTextModel",
            "_view_count": null,
            "_view_module": "@jupyter-widgets/controls",
            "_view_module_version": "1.5.0",
            "_view_name": "FloatTextView",
            "continuous_update": false,
            "description": "Hepatitis B:",
            "description_tooltip": null,
            "disabled": false,
            "layout": "IPY_MODEL_eea071ed4eb04a91a559da98cc31d891",
            "step": 1,
            "style": "IPY_MODEL_29fa27473c29416ea156f747a5e7e8a7",
            "value": 92
          }
        },
        "baf9c609b7ef47af8e24db0be5723407": {
          "model_module": "@jupyter-widgets/base",
          "model_module_version": "1.2.0",
          "model_name": "LayoutModel",
          "state": {
            "_model_module": "@jupyter-widgets/base",
            "_model_module_version": "1.2.0",
            "_model_name": "LayoutModel",
            "_view_count": null,
            "_view_module": "@jupyter-widgets/base",
            "_view_module_version": "1.2.0",
            "_view_name": "LayoutView",
            "align_content": null,
            "align_items": null,
            "align_self": null,
            "border": null,
            "bottom": null,
            "display": null,
            "flex": null,
            "flex_flow": null,
            "grid_area": null,
            "grid_auto_columns": null,
            "grid_auto_flow": null,
            "grid_auto_rows": null,
            "grid_column": null,
            "grid_gap": null,
            "grid_row": null,
            "grid_template_areas": null,
            "grid_template_columns": null,
            "grid_template_rows": null,
            "height": null,
            "justify_content": null,
            "justify_items": null,
            "left": null,
            "margin": null,
            "max_height": null,
            "max_width": null,
            "min_height": null,
            "min_width": null,
            "object_fit": null,
            "object_position": null,
            "order": null,
            "overflow": null,
            "overflow_x": null,
            "overflow_y": null,
            "padding": null,
            "right": null,
            "top": null,
            "visibility": null,
            "width": null
          }
        },
        "c7ed23cd3e4c42df813392bbc9ead94f": {
          "model_module": "@jupyter-widgets/controls",
          "model_module_version": "1.5.0",
          "model_name": "FloatTextModel",
          "state": {
            "_dom_classes": [],
            "_model_module": "@jupyter-widgets/controls",
            "_model_module_version": "1.5.0",
            "_model_name": "FloatTextModel",
            "_view_count": null,
            "_view_module": "@jupyter-widgets/controls",
            "_view_module_version": "1.5.0",
            "_view_name": "FloatTextView",
            "continuous_update": false,
            "description": "Alcohol:",
            "description_tooltip": null,
            "disabled": false,
            "layout": "IPY_MODEL_a070acde1a494f3fb8005abd714bd0e9",
            "step": 1,
            "style": "IPY_MODEL_748ac4a63bb64300935c730f7b461a5c",
            "value": 3.77
          }
        },
        "c842d2aebaa9431986bf083dd3dffe72": {
          "model_module": "@jupyter-widgets/controls",
          "model_module_version": "1.5.0",
          "model_name": "DescriptionStyleModel",
          "state": {
            "_model_module": "@jupyter-widgets/controls",
            "_model_module_version": "1.5.0",
            "_model_name": "DescriptionStyleModel",
            "_view_count": null,
            "_view_module": "@jupyter-widgets/base",
            "_view_module_version": "1.2.0",
            "_view_name": "StyleView",
            "description_width": ""
          }
        },
        "cc267187e6fe453b9a130c356bc4a121": {
          "model_module": "@jupyter-widgets/controls",
          "model_module_version": "1.5.0",
          "model_name": "DescriptionStyleModel",
          "state": {
            "_model_module": "@jupyter-widgets/controls",
            "_model_module_version": "1.5.0",
            "_model_name": "DescriptionStyleModel",
            "_view_count": null,
            "_view_module": "@jupyter-widgets/base",
            "_view_module_version": "1.2.0",
            "_view_name": "StyleView",
            "description_width": "initial"
          }
        },
        "cc6c22c508e64ebd98854467201e11ba": {
          "model_module": "@jupyter-widgets/base",
          "model_module_version": "1.2.0",
          "model_name": "LayoutModel",
          "state": {
            "_model_module": "@jupyter-widgets/base",
            "_model_module_version": "1.2.0",
            "_model_name": "LayoutModel",
            "_view_count": null,
            "_view_module": "@jupyter-widgets/base",
            "_view_module_version": "1.2.0",
            "_view_name": "LayoutView",
            "align_content": null,
            "align_items": null,
            "align_self": null,
            "border": null,
            "bottom": null,
            "display": null,
            "flex": null,
            "flex_flow": null,
            "grid_area": null,
            "grid_auto_columns": null,
            "grid_auto_flow": null,
            "grid_auto_rows": null,
            "grid_column": null,
            "grid_gap": null,
            "grid_row": null,
            "grid_template_areas": null,
            "grid_template_columns": null,
            "grid_template_rows": null,
            "height": null,
            "justify_content": null,
            "justify_items": null,
            "left": null,
            "margin": null,
            "max_height": null,
            "max_width": null,
            "min_height": null,
            "min_width": null,
            "object_fit": null,
            "object_position": null,
            "order": null,
            "overflow": null,
            "overflow_x": null,
            "overflow_y": null,
            "padding": null,
            "right": null,
            "top": null,
            "visibility": null,
            "width": null
          }
        },
        "d3c3391e13a7486e8873e7df5a50cf9a": {
          "model_module": "@jupyter-widgets/controls",
          "model_module_version": "1.5.0",
          "model_name": "DescriptionStyleModel",
          "state": {
            "_model_module": "@jupyter-widgets/controls",
            "_model_module_version": "1.5.0",
            "_model_name": "DescriptionStyleModel",
            "_view_count": null,
            "_view_module": "@jupyter-widgets/base",
            "_view_module_version": "1.2.0",
            "_view_name": "StyleView",
            "description_width": "initial"
          }
        },
        "d3e3731c75594cc092b533b5100b6c8f": {
          "model_module": "@jupyter-widgets/controls",
          "model_module_version": "1.5.0",
          "model_name": "DescriptionStyleModel",
          "state": {
            "_model_module": "@jupyter-widgets/controls",
            "_model_module_version": "1.5.0",
            "_model_name": "DescriptionStyleModel",
            "_view_count": null,
            "_view_module": "@jupyter-widgets/base",
            "_view_module_version": "1.2.0",
            "_view_name": "StyleView",
            "description_width": "initial"
          }
        },
        "d4954f2046e8410c8c9bab930b63bc20": {
          "model_module": "@jupyter-widgets/base",
          "model_module_version": "1.2.0",
          "model_name": "LayoutModel",
          "state": {
            "_model_module": "@jupyter-widgets/base",
            "_model_module_version": "1.2.0",
            "_model_name": "LayoutModel",
            "_view_count": null,
            "_view_module": "@jupyter-widgets/base",
            "_view_module_version": "1.2.0",
            "_view_name": "LayoutView",
            "align_content": null,
            "align_items": null,
            "align_self": null,
            "border": null,
            "bottom": null,
            "display": null,
            "flex": null,
            "flex_flow": null,
            "grid_area": null,
            "grid_auto_columns": null,
            "grid_auto_flow": null,
            "grid_auto_rows": null,
            "grid_column": null,
            "grid_gap": null,
            "grid_row": null,
            "grid_template_areas": null,
            "grid_template_columns": null,
            "grid_template_rows": null,
            "height": null,
            "justify_content": null,
            "justify_items": null,
            "left": null,
            "margin": null,
            "max_height": null,
            "max_width": null,
            "min_height": null,
            "min_width": null,
            "object_fit": null,
            "object_position": null,
            "order": null,
            "overflow": null,
            "overflow_x": null,
            "overflow_y": null,
            "padding": null,
            "right": null,
            "top": null,
            "visibility": null,
            "width": null
          }
        },
        "d4a21939a18341f69409c0ce20170450": {
          "model_module": "@jupyter-widgets/base",
          "model_module_version": "1.2.0",
          "model_name": "LayoutModel",
          "state": {
            "_model_module": "@jupyter-widgets/base",
            "_model_module_version": "1.2.0",
            "_model_name": "LayoutModel",
            "_view_count": null,
            "_view_module": "@jupyter-widgets/base",
            "_view_module_version": "1.2.0",
            "_view_name": "LayoutView",
            "align_content": null,
            "align_items": null,
            "align_self": null,
            "border": null,
            "bottom": null,
            "display": null,
            "flex": null,
            "flex_flow": null,
            "grid_area": null,
            "grid_auto_columns": null,
            "grid_auto_flow": null,
            "grid_auto_rows": null,
            "grid_column": null,
            "grid_gap": null,
            "grid_row": null,
            "grid_template_areas": null,
            "grid_template_columns": null,
            "grid_template_rows": null,
            "height": null,
            "justify_content": null,
            "justify_items": null,
            "left": null,
            "margin": null,
            "max_height": null,
            "max_width": null,
            "min_height": null,
            "min_width": null,
            "object_fit": null,
            "object_position": null,
            "order": null,
            "overflow": null,
            "overflow_x": null,
            "overflow_y": null,
            "padding": null,
            "right": null,
            "top": null,
            "visibility": null,
            "width": null
          }
        },
        "d804e0103c7c4b11bf7904effd5b9d69": {
          "model_module": "@jupyter-widgets/controls",
          "model_module_version": "1.5.0",
          "model_name": "FloatTextModel",
          "state": {
            "_dom_classes": [],
            "_model_module": "@jupyter-widgets/controls",
            "_model_module_version": "1.5.0",
            "_model_name": "FloatTextModel",
            "_view_count": null,
            "_view_module": "@jupyter-widgets/controls",
            "_view_module_version": "1.5.0",
            "_view_name": "FloatTextView",
            "continuous_update": false,
            "description": "thinness 1-19 years:",
            "description_tooltip": null,
            "disabled": false,
            "layout": "IPY_MODEL_6d689c70411c4e2cb5bb6b94eb157f53",
            "step": 1,
            "style": "IPY_MODEL_d3c3391e13a7486e8873e7df5a50cf9a",
            "value": 3.3
          }
        },
        "d93cc6e8f05c4b6aa995fab3f07a68d5": {
          "model_module": "@jupyter-widgets/controls",
          "model_module_version": "1.5.0",
          "model_name": "DescriptionStyleModel",
          "state": {
            "_model_module": "@jupyter-widgets/controls",
            "_model_module_version": "1.5.0",
            "_model_name": "DescriptionStyleModel",
            "_view_count": null,
            "_view_module": "@jupyter-widgets/base",
            "_view_module_version": "1.2.0",
            "_view_name": "StyleView",
            "description_width": "initial"
          }
        },
        "dbe92cf2bd3d4a9786d60bc8d2ca82b4": {
          "model_module": "@jupyter-widgets/base",
          "model_module_version": "1.2.0",
          "model_name": "LayoutModel",
          "state": {
            "_model_module": "@jupyter-widgets/base",
            "_model_module_version": "1.2.0",
            "_model_name": "LayoutModel",
            "_view_count": null,
            "_view_module": "@jupyter-widgets/base",
            "_view_module_version": "1.2.0",
            "_view_name": "LayoutView",
            "align_content": null,
            "align_items": null,
            "align_self": null,
            "border": null,
            "bottom": null,
            "display": null,
            "flex": null,
            "flex_flow": null,
            "grid_area": null,
            "grid_auto_columns": null,
            "grid_auto_flow": null,
            "grid_auto_rows": null,
            "grid_column": null,
            "grid_gap": null,
            "grid_row": null,
            "grid_template_areas": null,
            "grid_template_columns": null,
            "grid_template_rows": null,
            "height": null,
            "justify_content": null,
            "justify_items": null,
            "left": null,
            "margin": null,
            "max_height": null,
            "max_width": null,
            "min_height": null,
            "min_width": null,
            "object_fit": null,
            "object_position": null,
            "order": null,
            "overflow": null,
            "overflow_x": null,
            "overflow_y": null,
            "padding": null,
            "right": null,
            "top": null,
            "visibility": null,
            "width": null
          }
        },
        "e3596a758a8e4516a620b2a642a81a2e": {
          "model_module": "@jupyter-widgets/controls",
          "model_module_version": "1.5.0",
          "model_name": "FloatTextModel",
          "state": {
            "_dom_classes": [],
            "_model_module": "@jupyter-widgets/controls",
            "_model_module_version": "1.5.0",
            "_model_name": "FloatTextModel",
            "_view_count": null,
            "_view_module": "@jupyter-widgets/controls",
            "_view_module_version": "1.5.0",
            "_view_name": "FloatTextView",
            "continuous_update": false,
            "description": "Measles:",
            "description_tooltip": null,
            "disabled": false,
            "layout": "IPY_MODEL_a6d8808384314905b9e3d66656609528",
            "step": 1,
            "style": "IPY_MODEL_d3e3731c75594cc092b533b5100b6c8f",
            "value": 17
          }
        },
        "e536afb765b34046a24f4b4d0c2e661e": {
          "model_module": "@jupyter-widgets/controls",
          "model_module_version": "1.5.0",
          "model_name": "DescriptionStyleModel",
          "state": {
            "_model_module": "@jupyter-widgets/controls",
            "_model_module_version": "1.5.0",
            "_model_name": "DescriptionStyleModel",
            "_view_count": null,
            "_view_module": "@jupyter-widgets/base",
            "_view_module_version": "1.2.0",
            "_view_name": "StyleView",
            "description_width": "initial"
          }
        },
        "eade2fb2302b45b6bfcef5a44021cdbf": {
          "model_module": "@jupyter-widgets/controls",
          "model_module_version": "1.5.0",
          "model_name": "VBoxModel",
          "state": {
            "_dom_classes": [],
            "_model_module": "@jupyter-widgets/controls",
            "_model_module_version": "1.5.0",
            "_model_name": "VBoxModel",
            "_view_count": null,
            "_view_module": "@jupyter-widgets/controls",
            "_view_module_version": "1.5.0",
            "_view_name": "VBoxView",
            "box_style": "",
            "children": [
              "IPY_MODEL_369e06b8f5f84705a99067dafb6e6507",
              "IPY_MODEL_3ef27a3aacad4437906eab55ffe7d6e4"
            ],
            "layout": "IPY_MODEL_5158c3019a284549aa997c162e555661"
          }
        },
        "eb0eeaf89daf4ee38f71f94e1d74d870": {
          "model_module": "@jupyter-widgets/controls",
          "model_module_version": "1.5.0",
          "model_name": "FloatTextModel",
          "state": {
            "_dom_classes": [],
            "_model_module": "@jupyter-widgets/controls",
            "_model_module_version": "1.5.0",
            "_model_name": "FloatTextModel",
            "_view_count": null,
            "_view_module": "@jupyter-widgets/controls",
            "_view_module_version": "1.5.0",
            "_view_name": "FloatTextView",
            "continuous_update": false,
            "description": "Income composition of resources:",
            "description_tooltip": null,
            "disabled": false,
            "layout": "IPY_MODEL_8dde3ffb92e34533ab095d9cb78182c9",
            "step": 1,
            "style": "IPY_MODEL_e536afb765b34046a24f4b4d0c2e661e",
            "value": 0.675
          }
        },
        "eea071ed4eb04a91a559da98cc31d891": {
          "model_module": "@jupyter-widgets/base",
          "model_module_version": "1.2.0",
          "model_name": "LayoutModel",
          "state": {
            "_model_module": "@jupyter-widgets/base",
            "_model_module_version": "1.2.0",
            "_model_name": "LayoutModel",
            "_view_count": null,
            "_view_module": "@jupyter-widgets/base",
            "_view_module_version": "1.2.0",
            "_view_name": "LayoutView",
            "align_content": null,
            "align_items": null,
            "align_self": null,
            "border": null,
            "bottom": null,
            "display": null,
            "flex": null,
            "flex_flow": null,
            "grid_area": null,
            "grid_auto_columns": null,
            "grid_auto_flow": null,
            "grid_auto_rows": null,
            "grid_column": null,
            "grid_gap": null,
            "grid_row": null,
            "grid_template_areas": null,
            "grid_template_columns": null,
            "grid_template_rows": null,
            "height": null,
            "justify_content": null,
            "justify_items": null,
            "left": null,
            "margin": null,
            "max_height": null,
            "max_width": null,
            "min_height": null,
            "min_width": null,
            "object_fit": null,
            "object_position": null,
            "order": null,
            "overflow": null,
            "overflow_x": null,
            "overflow_y": null,
            "padding": null,
            "right": null,
            "top": null,
            "visibility": null,
            "width": null
          }
        },
        "f0cb0c31609b486c80e1265a8df0862b": {
          "model_module": "@jupyter-widgets/controls",
          "model_module_version": "1.5.0",
          "model_name": "VBoxModel",
          "state": {
            "_dom_classes": [
              "widget-interact"
            ],
            "_model_module": "@jupyter-widgets/controls",
            "_model_module_version": "1.5.0",
            "_model_name": "VBoxModel",
            "_view_count": null,
            "_view_module": "@jupyter-widgets/controls",
            "_view_module_version": "1.5.0",
            "_view_name": "VBoxView",
            "box_style": "",
            "children": [
              "IPY_MODEL_f6b8644b7e6640958db6bcabe9e6a727",
              "IPY_MODEL_5fd748c09eb64c9d93e6d1797f8ce146"
            ],
            "layout": "IPY_MODEL_6c85c7fed9b743749bc6a78e7006a4b9"
          }
        },
        "f1270ee4b6d44824bd7b912d8e5321d8": {
          "model_module": "@jupyter-widgets/base",
          "model_module_version": "1.2.0",
          "model_name": "LayoutModel",
          "state": {
            "_model_module": "@jupyter-widgets/base",
            "_model_module_version": "1.2.0",
            "_model_name": "LayoutModel",
            "_view_count": null,
            "_view_module": "@jupyter-widgets/base",
            "_view_module_version": "1.2.0",
            "_view_name": "LayoutView",
            "align_content": null,
            "align_items": null,
            "align_self": null,
            "border": null,
            "bottom": null,
            "display": null,
            "flex": null,
            "flex_flow": null,
            "grid_area": null,
            "grid_auto_columns": null,
            "grid_auto_flow": null,
            "grid_auto_rows": null,
            "grid_column": null,
            "grid_gap": null,
            "grid_row": null,
            "grid_template_areas": null,
            "grid_template_columns": null,
            "grid_template_rows": null,
            "height": null,
            "justify_content": null,
            "justify_items": null,
            "left": null,
            "margin": null,
            "max_height": null,
            "max_width": null,
            "min_height": null,
            "min_width": null,
            "object_fit": null,
            "object_position": null,
            "order": null,
            "overflow": null,
            "overflow_x": null,
            "overflow_y": null,
            "padding": null,
            "right": null,
            "top": null,
            "visibility": null,
            "width": null
          }
        },
        "f330c360b40b4c5ead11d0b5dcc635d8": {
          "model_module": "@jupyter-widgets/base",
          "model_module_version": "1.2.0",
          "model_name": "LayoutModel",
          "state": {
            "_model_module": "@jupyter-widgets/base",
            "_model_module_version": "1.2.0",
            "_model_name": "LayoutModel",
            "_view_count": null,
            "_view_module": "@jupyter-widgets/base",
            "_view_module_version": "1.2.0",
            "_view_name": "LayoutView",
            "align_content": null,
            "align_items": null,
            "align_self": null,
            "border": null,
            "bottom": null,
            "display": null,
            "flex": null,
            "flex_flow": null,
            "grid_area": null,
            "grid_auto_columns": null,
            "grid_auto_flow": null,
            "grid_auto_rows": null,
            "grid_column": null,
            "grid_gap": null,
            "grid_row": null,
            "grid_template_areas": null,
            "grid_template_columns": null,
            "grid_template_rows": null,
            "height": null,
            "justify_content": null,
            "justify_items": null,
            "left": null,
            "margin": null,
            "max_height": null,
            "max_width": null,
            "min_height": null,
            "min_width": null,
            "object_fit": null,
            "object_position": null,
            "order": null,
            "overflow": null,
            "overflow_x": null,
            "overflow_y": null,
            "padding": null,
            "right": null,
            "top": null,
            "visibility": null,
            "width": null
          }
        },
        "f6b8644b7e6640958db6bcabe9e6a727": {
          "model_module": "@jupyter-widgets/controls",
          "model_module_version": "1.5.0",
          "model_name": "DropdownModel",
          "state": {
            "_dom_classes": [],
            "_model_module": "@jupyter-widgets/controls",
            "_model_module_version": "1.5.0",
            "_model_name": "DropdownModel",
            "_options_labels": [
              "percentage expenditure vs GDP",
              "thinness 5-9 years vs thinness 1-19 years",
              "thinness 1-19 years vs thinness 5-9 years",
              "Schooling vs Income composition of resources",
              "Life expectancy vs Income composition of resources",
              "Income composition of resources vs Schooling",
              "Life expectancy vs Schooling"
            ],
            "_view_count": null,
            "_view_module": "@jupyter-widgets/controls",
            "_view_module_version": "1.5.0",
            "_view_name": "DropdownView",
            "description": "Feature Pair:",
            "description_tooltip": null,
            "disabled": false,
            "index": 0,
            "layout": "IPY_MODEL_d4954f2046e8410c8c9bab930b63bc20",
            "style": "IPY_MODEL_c842d2aebaa9431986bf083dd3dffe72"
          }
        }
      }
    }
  },
  "nbformat": 4,
  "nbformat_minor": 0
}
